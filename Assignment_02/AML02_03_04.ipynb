{
  "nbformat": 4,
  "nbformat_minor": 0,
  "metadata": {
    "colab": {
      "provenance": []
    },
    "kernelspec": {
      "name": "python3",
      "display_name": "Python 3"
    },
    "language_info": {
      "name": "python"
    },
    "gpuClass": "standard",
    "accelerator": "GPU"
  },
  "cells": [
    {
      "cell_type": "code",
      "execution_count": 9,
      "metadata": {
        "colab": {
          "base_uri": "https://localhost:8080/"
        },
        "id": "D-63C52Qg-mj",
        "outputId": "b8ddb96f-c74d-428c-9024-54bf6dda321d"
      },
      "outputs": [
        {
          "output_type": "stream",
          "name": "stdout",
          "text": [
            "Drive already mounted at /content/drive; to attempt to forcibly remount, call drive.mount(\"/content/drive\", force_remount=True).\n"
          ]
        }
      ],
      "source": [
        "from google.colab import drive\n",
        "drive.mount('/content/drive')"
      ]
    },
    {
      "cell_type": "markdown",
      "source": [
        "###3. Now change your training sample so that you achieve better performance than those from Steps 1 and 2. This sample size may be larger, or smaller than those in the previous steps. The objective is to find the ideal training sample size to get best prediction results"
      ],
      "metadata": {
        "id": "p7y3zhp0KBDR"
      }
    },
    {
      "cell_type": "code",
      "source": [
        "import os, shutil\n",
        "original_dataset_dir = '/content/drive/MyDrive/AML/Kaggle_original_data/train'\n",
        "\n",
        "base_dir = '/content/drive/MyDrive/AML/cats_and_dogs_random'\n",
        "#os.mkdir(base_dir)\n",
        "\n",
        "### Directories for the training, validation, and test splits\n",
        "\n",
        "train_dir = os.path.join(base_dir, 'train')\n",
        "#os.mkdir(train_dir)\n",
        "validation_dir = os.path.join(base_dir, 'validation')\n",
        "#os.mkdir(validation_dir)\n",
        "test_dir = os.path.join(base_dir, 'test')\n",
        "#os.mkdir(test_dir)\n",
        "\n",
        "### Directory with training cat pictures\n",
        "\n",
        "train_cats_dir = os.path.join(train_dir,'cats')\n",
        "#os.mkdir(train_cats_dir)\n",
        "\n",
        "### Directory with training dog pictures\n",
        "\n",
        "train_dogs_dir = os.path.join(train_dir, 'dogs')\n",
        "#os.mkdir(train_dogs_dir)\n",
        "\n",
        "### Directory with val cat pictures\n",
        "\n",
        "validation_cats_dir = os.path.join(validation_dir, 'cats')\n",
        "#os.mkdir(validation_cats_dir)\n",
        "\n",
        "### Directory with val dog pictures\n",
        "\n",
        "validation_dogs_dir = os.path.join(validation_dir, 'dogs')\n",
        "#os.mkdir(validation_dogs_dir)\n",
        "\n",
        "### Directory with test cat pictures\n",
        "\n",
        "test_cats_dir = os.path.join(test_dir, 'cats')\n",
        "#os.mkdir(test_cats_dir)\n",
        "\n",
        "### Directory with val Dog pictures\n",
        "\n",
        "test_dogs_dir = os.path.join(test_dir, 'dogs')\n",
        "#os.mkdir(test_dogs_dir)\n",
        "\n",
        "### Copies the 2,000 cat images to train_cats_dir\n",
        "\n",
        "fnames = ['cat.{}.jpg'.format(i) for i in range(3000,5000)]\n",
        "for fname in fnames:\n",
        "  src = os.path.join(original_dataset_dir, fname)\n",
        "  dst = os.path.join(train_cats_dir, fname)\n",
        "  #shutil.copyfile(src, dst)\n",
        "\n",
        "### Copies the 1000 cat images to validation_cats_dir\n",
        "\n",
        "fnames = ['cat.{}.jpg'.format(i) for i in range(1000, 2000)]\n",
        "for fname in fnames:\n",
        "  src = os.path.join(original_dataset_dir, fname)\n",
        "  dst = os.path.join(validation_cats_dir, fname)\n",
        "  #shutil.copyfile(src, dst)\n",
        "\n",
        "### Copies the 1000 cat images to test_cats_dir\n",
        "\n",
        "fnames = ['cat.{}.jpg'.format(i) for i in range(2000, 3000)]\n",
        "for fname in fnames:\n",
        "  src = os.path.join(original_dataset_dir, fname)\n",
        "  dst = os.path.join(test_cats_dir, fname)\n",
        "  #shutil.copyfile(src, dst)\n",
        "\n",
        "\n",
        "### Copies the 2,000 dog images to train_dogs_dir\n",
        "\n",
        "fnames = ['dog.{}.jpg'.format(i) for i in range(3000, 5000)]\n",
        "for fname in fnames:\n",
        "  src = os.path.join(original_dataset_dir, fname)\n",
        "  dst = os.path.join(train_dogs_dir, fname)\n",
        "  #shutil.copyfile(src, dst)\n",
        "\n",
        "### Copies the 1000 dog images to validation_dogs_dir\n",
        "\n",
        "fnames = ['dog.{}.jpg'.format(i) for i in range(1000, 2000)]\n",
        "for fname in fnames:\n",
        "  src = os.path.join(original_dataset_dir, fname)\n",
        "  dst = os.path.join(validation_dogs_dir, fname)\n",
        "  #shutil.copyfile(src, dst)\n",
        "\n",
        "### Copies the 1000 dog images to test_dogs_dir\n",
        "\n",
        "fnames = ['dog.{}.jpg'.format(i) for i in range(2000, 3000)]\n",
        "for fname in fnames:\n",
        "  src = os.path.join(original_dataset_dir, fname)\n",
        "  dst = os.path.join(test_dogs_dir, fname)\n",
        "  #shutil.copyfile(src, dst)\n",
        "\n"
      ],
      "metadata": {
        "id": "hz2G4Pz6h2w6"
      },
      "execution_count": 10,
      "outputs": []
    },
    {
      "cell_type": "markdown",
      "source": [
        "#### let’s count how many pictures are in each training split "
      ],
      "metadata": {
        "id": "fenkGsAXKvYe"
      }
    },
    {
      "cell_type": "code",
      "source": [
        "print('total training cat images:', len(os.listdir(train_cats_dir)))\n",
        "\n",
        "print('total training dog images:', len(os.listdir(train_dogs_dir)))\n",
        "\n",
        "print('total validation cat images:', len(os.listdir(validation_cats_dir)))\n",
        "\n",
        "print('total validation dog images:', len(os.listdir(validation_dogs_dir)))\n",
        "\n",
        "print('total test cat images:', len(os.listdir(test_cats_dir)))\n",
        "\n",
        "print('total test dog images:', len(os.listdir(test_dogs_dir)))\n"
      ],
      "metadata": {
        "colab": {
          "base_uri": "https://localhost:8080/"
        },
        "id": "ppNxPkv_J1Er",
        "outputId": "517a25a9-708c-4358-9978-eb385cda1d44"
      },
      "execution_count": 11,
      "outputs": [
        {
          "output_type": "stream",
          "name": "stdout",
          "text": [
            "total training cat images: 2000\n",
            "total training dog images: 2000\n",
            "total validation cat images: 1000\n",
            "total validation dog images: 1000\n",
            "total test cat images: 1000\n",
            "total test dog images: 1000\n"
          ]
        }
      ]
    },
    {
      "cell_type": "markdown",
      "source": [
        "\n",
        "#### Defining a convnet for dogs vs. cats classification which includes dropout"
      ],
      "metadata": {
        "id": "c1MXYANFLS-m"
      }
    },
    {
      "cell_type": "code",
      "source": [
        "from keras import layers\n",
        "from keras import models\n",
        "model = models.Sequential()\n",
        "model.add(layers.Conv2D(32, (3, 3), activation='relu',\n",
        "input_shape=(150, 150, 3)))\n",
        "model.add(layers.MaxPooling2D((2, 2)))\n",
        "model.add(layers.Conv2D(64, (3, 3), activation='relu'))\n",
        "model.add(layers.MaxPooling2D((2, 2)))\n",
        "model.add(layers.Conv2D(128, (3, 3), activation='relu'))\n",
        "model.add(layers.MaxPooling2D((2, 2)))\n",
        "model.add(layers.Conv2D(128, (3, 3), activation='relu'))\n",
        "model.add(layers.MaxPooling2D((2, 2)))\n",
        "model.add(layers.Flatten())\n",
        "model.add(layers.Dropout(0.5))\n",
        "model.add(layers.Dense(512, activation='relu'))\n",
        "model.add(layers.Dense(1, activation='sigmoid'))\n",
        "\n",
        "### Let’s look at how the dimensions of the feature maps change with every \n",
        "## successive layer:\n",
        "\n",
        "model.summary()"
      ],
      "metadata": {
        "colab": {
          "base_uri": "https://localhost:8080/"
        },
        "outputId": "b5e85421-e9c5-4dfd-a655-d377ade66e91",
        "id": "mau6iOrQIE2J"
      },
      "execution_count": 12,
      "outputs": [
        {
          "output_type": "stream",
          "name": "stdout",
          "text": [
            "Model: \"sequential_1\"\n",
            "_________________________________________________________________\n",
            " Layer (type)                Output Shape              Param #   \n",
            "=================================================================\n",
            " conv2d_4 (Conv2D)           (None, 148, 148, 32)      896       \n",
            "                                                                 \n",
            " max_pooling2d_4 (MaxPooling  (None, 74, 74, 32)       0         \n",
            " 2D)                                                             \n",
            "                                                                 \n",
            " conv2d_5 (Conv2D)           (None, 72, 72, 64)        18496     \n",
            "                                                                 \n",
            " max_pooling2d_5 (MaxPooling  (None, 36, 36, 64)       0         \n",
            " 2D)                                                             \n",
            "                                                                 \n",
            " conv2d_6 (Conv2D)           (None, 34, 34, 128)       73856     \n",
            "                                                                 \n",
            " max_pooling2d_6 (MaxPooling  (None, 17, 17, 128)      0         \n",
            " 2D)                                                             \n",
            "                                                                 \n",
            " conv2d_7 (Conv2D)           (None, 15, 15, 128)       147584    \n",
            "                                                                 \n",
            " max_pooling2d_7 (MaxPooling  (None, 7, 7, 128)        0         \n",
            " 2D)                                                             \n",
            "                                                                 \n",
            " flatten_1 (Flatten)         (None, 6272)              0         \n",
            "                                                                 \n",
            " dropout_1 (Dropout)         (None, 6272)              0         \n",
            "                                                                 \n",
            " dense_2 (Dense)             (None, 512)               3211776   \n",
            "                                                                 \n",
            " dense_3 (Dense)             (None, 1)                 513       \n",
            "                                                                 \n",
            "=================================================================\n",
            "Total params: 3,453,121\n",
            "Trainable params: 3,453,121\n",
            "Non-trainable params: 0\n",
            "_________________________________________________________________\n"
          ]
        }
      ]
    },
    {
      "cell_type": "markdown",
      "source": [
        "####Configuring the model for training"
      ],
      "metadata": {
        "id": "4HTbYLJvL-G1"
      }
    },
    {
      "cell_type": "code",
      "source": [
        "from keras import optimizers\n",
        "model.compile(loss='binary_crossentropy',\n",
        "  optimizer=optimizers.RMSprop(learning_rate = 1e-4),\n",
        "  metrics=['acc'])"
      ],
      "metadata": {
        "id": "GWG6hIp6L9Ha"
      },
      "execution_count": 13,
      "outputs": []
    },
    {
      "cell_type": "markdown",
      "source": [
        "####Let’s train the network using data augmentation and dropout."
      ],
      "metadata": {
        "id": "NPYQwuqfW0xp"
      }
    },
    {
      "cell_type": "code",
      "source": [
        "from keras.preprocessing.image import ImageDataGenerator\n",
        "train_datagen = ImageDataGenerator(\n",
        "  rescale=1./255,\n",
        "  rotation_range=40,\n",
        "  width_shift_range=0.2,\n",
        "  height_shift_range=0.2,\n",
        "  shear_range=0.2,\n",
        "  zoom_range=0.2,\n",
        "  horizontal_flip=True,)\n",
        "test_datagen = ImageDataGenerator(rescale=1./255)\n",
        "\n",
        "train_generator = train_datagen.flow_from_directory(\n",
        "  train_dir,\n",
        "  target_size=(150, 150),\n",
        "  batch_size=64,\n",
        "  class_mode='binary')\n",
        "\n",
        "validation_generator = test_datagen.flow_from_directory(\n",
        "  validation_dir,\n",
        "  target_size=(150, 150),\n",
        "  batch_size=64,\n",
        "  class_mode='binary')\n",
        "\n",
        "history = model.fit (\n",
        "train_generator,\n",
        "steps_per_epoch=62,\n",
        "epochs=100,\n",
        "validation_data=validation_generator,\n",
        "validation_steps=31)\n",
        "model.save('cats_and_dogs_small_03.h5')"
      ],
      "metadata": {
        "colab": {
          "base_uri": "https://localhost:8080/"
        },
        "id": "S5jNHDvaXK15",
        "outputId": "c4d20226-69ce-4de8-ad29-924d3b950f53"
      },
      "execution_count": 14,
      "outputs": [
        {
          "output_type": "stream",
          "name": "stdout",
          "text": [
            "Found 4000 images belonging to 2 classes.\n",
            "Found 2000 images belonging to 2 classes.\n",
            "Epoch 1/100\n",
            "62/62 [==============================] - 296s 5s/step - loss: 0.6919 - acc: 0.5188 - val_loss: 0.6764 - val_acc: 0.5902\n",
            "Epoch 2/100\n",
            "62/62 [==============================] - 47s 769ms/step - loss: 0.6785 - acc: 0.5638 - val_loss: 0.6595 - val_acc: 0.6144\n",
            "Epoch 3/100\n",
            "62/62 [==============================] - 47s 764ms/step - loss: 0.6649 - acc: 0.5841 - val_loss: 0.6443 - val_acc: 0.6134\n",
            "Epoch 4/100\n",
            "62/62 [==============================] - 46s 736ms/step - loss: 0.6563 - acc: 0.6090 - val_loss: 0.6305 - val_acc: 0.6396\n",
            "Epoch 5/100\n",
            "62/62 [==============================] - 45s 734ms/step - loss: 0.6434 - acc: 0.6242 - val_loss: 0.6312 - val_acc: 0.6396\n",
            "Epoch 6/100\n",
            "62/62 [==============================] - 47s 763ms/step - loss: 0.6378 - acc: 0.6329 - val_loss: 0.6122 - val_acc: 0.6583\n",
            "Epoch 7/100\n",
            "62/62 [==============================] - 46s 749ms/step - loss: 0.6251 - acc: 0.6466 - val_loss: 0.6113 - val_acc: 0.6532\n",
            "Epoch 8/100\n",
            "62/62 [==============================] - 45s 733ms/step - loss: 0.6204 - acc: 0.6471 - val_loss: 0.5881 - val_acc: 0.6794\n",
            "Epoch 9/100\n",
            "62/62 [==============================] - 47s 761ms/step - loss: 0.6089 - acc: 0.6649 - val_loss: 0.5900 - val_acc: 0.6759\n",
            "Epoch 10/100\n",
            "62/62 [==============================] - 45s 735ms/step - loss: 0.6100 - acc: 0.6601 - val_loss: 0.6149 - val_acc: 0.6502\n",
            "Epoch 11/100\n",
            "62/62 [==============================] - 48s 780ms/step - loss: 0.6024 - acc: 0.6649 - val_loss: 0.5640 - val_acc: 0.7011\n",
            "Epoch 12/100\n",
            "62/62 [==============================] - 46s 747ms/step - loss: 0.5965 - acc: 0.6751 - val_loss: 0.5843 - val_acc: 0.6759\n",
            "Epoch 13/100\n",
            "62/62 [==============================] - 47s 766ms/step - loss: 0.5895 - acc: 0.6768 - val_loss: 0.5973 - val_acc: 0.6754\n",
            "Epoch 14/100\n",
            "62/62 [==============================] - 47s 760ms/step - loss: 0.5820 - acc: 0.6926 - val_loss: 0.5660 - val_acc: 0.7061\n",
            "Epoch 15/100\n",
            "62/62 [==============================] - 45s 729ms/step - loss: 0.5900 - acc: 0.6784 - val_loss: 0.5496 - val_acc: 0.7167\n",
            "Epoch 16/100\n",
            "62/62 [==============================] - 47s 763ms/step - loss: 0.5805 - acc: 0.6923 - val_loss: 0.5560 - val_acc: 0.7258\n",
            "Epoch 17/100\n",
            "62/62 [==============================] - 45s 729ms/step - loss: 0.5767 - acc: 0.6987 - val_loss: 0.5334 - val_acc: 0.7223\n",
            "Epoch 18/100\n",
            "62/62 [==============================] - 45s 728ms/step - loss: 0.5665 - acc: 0.6992 - val_loss: 0.5566 - val_acc: 0.7137\n",
            "Epoch 19/100\n",
            "62/62 [==============================] - 47s 762ms/step - loss: 0.5701 - acc: 0.7053 - val_loss: 0.5745 - val_acc: 0.6971\n",
            "Epoch 20/100\n",
            "62/62 [==============================] - 45s 727ms/step - loss: 0.5690 - acc: 0.6966 - val_loss: 0.5397 - val_acc: 0.7243\n",
            "Epoch 21/100\n",
            "62/62 [==============================] - 46s 747ms/step - loss: 0.5565 - acc: 0.7160 - val_loss: 0.5106 - val_acc: 0.7399\n",
            "Epoch 22/100\n",
            "62/62 [==============================] - 47s 767ms/step - loss: 0.5499 - acc: 0.7152 - val_loss: 0.5098 - val_acc: 0.7495\n",
            "Epoch 23/100\n",
            "62/62 [==============================] - 46s 734ms/step - loss: 0.5478 - acc: 0.7132 - val_loss: 0.6332 - val_acc: 0.6608\n",
            "Epoch 24/100\n",
            "62/62 [==============================] - 46s 751ms/step - loss: 0.5441 - acc: 0.7256 - val_loss: 0.5228 - val_acc: 0.7319\n",
            "Epoch 25/100\n",
            "62/62 [==============================] - 46s 737ms/step - loss: 0.5564 - acc: 0.7132 - val_loss: 0.5021 - val_acc: 0.7626\n",
            "Epoch 26/100\n",
            "62/62 [==============================] - 47s 750ms/step - loss: 0.5444 - acc: 0.7221 - val_loss: 0.5144 - val_acc: 0.7324\n",
            "Epoch 27/100\n",
            "62/62 [==============================] - 47s 755ms/step - loss: 0.5347 - acc: 0.7297 - val_loss: 0.5069 - val_acc: 0.7560\n",
            "Epoch 28/100\n",
            "62/62 [==============================] - 46s 747ms/step - loss: 0.5363 - acc: 0.7261 - val_loss: 0.5110 - val_acc: 0.7394\n",
            "Epoch 29/100\n",
            "62/62 [==============================] - 45s 720ms/step - loss: 0.5340 - acc: 0.7294 - val_loss: 0.4936 - val_acc: 0.7616\n",
            "Epoch 30/100\n",
            "62/62 [==============================] - 47s 766ms/step - loss: 0.5350 - acc: 0.7205 - val_loss: 0.5018 - val_acc: 0.7455\n",
            "Epoch 31/100\n",
            "62/62 [==============================] - 46s 748ms/step - loss: 0.5363 - acc: 0.7353 - val_loss: 0.4996 - val_acc: 0.7555\n",
            "Epoch 32/100\n",
            "62/62 [==============================] - 45s 720ms/step - loss: 0.5192 - acc: 0.7436 - val_loss: 0.4830 - val_acc: 0.7611\n",
            "Epoch 33/100\n",
            "62/62 [==============================] - 45s 722ms/step - loss: 0.5256 - acc: 0.7312 - val_loss: 0.4981 - val_acc: 0.7601\n",
            "Epoch 34/100\n",
            "62/62 [==============================] - 47s 759ms/step - loss: 0.5226 - acc: 0.7383 - val_loss: 0.4885 - val_acc: 0.7697\n",
            "Epoch 35/100\n",
            "62/62 [==============================] - 45s 721ms/step - loss: 0.5165 - acc: 0.7477 - val_loss: 0.5228 - val_acc: 0.7470\n",
            "Epoch 36/100\n",
            "62/62 [==============================] - 47s 758ms/step - loss: 0.5102 - acc: 0.7459 - val_loss: 0.5275 - val_acc: 0.7440\n",
            "Epoch 37/100\n",
            "62/62 [==============================] - 46s 745ms/step - loss: 0.5024 - acc: 0.7523 - val_loss: 0.5834 - val_acc: 0.7162\n",
            "Epoch 38/100\n",
            "62/62 [==============================] - 45s 722ms/step - loss: 0.5042 - acc: 0.7487 - val_loss: 0.4993 - val_acc: 0.7611\n",
            "Epoch 39/100\n",
            "62/62 [==============================] - 47s 758ms/step - loss: 0.5004 - acc: 0.7452 - val_loss: 0.5530 - val_acc: 0.7344\n",
            "Epoch 40/100\n",
            "62/62 [==============================] - 44s 717ms/step - loss: 0.5041 - acc: 0.7513 - val_loss: 0.4584 - val_acc: 0.7782\n",
            "Epoch 41/100\n",
            "62/62 [==============================] - 47s 757ms/step - loss: 0.4964 - acc: 0.7574 - val_loss: 0.4702 - val_acc: 0.7878\n",
            "Epoch 42/100\n",
            "62/62 [==============================] - 47s 752ms/step - loss: 0.4941 - acc: 0.7597 - val_loss: 0.4722 - val_acc: 0.7802\n",
            "Epoch 43/100\n",
            "62/62 [==============================] - 46s 749ms/step - loss: 0.4891 - acc: 0.7658 - val_loss: 0.4904 - val_acc: 0.7591\n",
            "Epoch 44/100\n",
            "62/62 [==============================] - 47s 756ms/step - loss: 0.4947 - acc: 0.7627 - val_loss: 0.4557 - val_acc: 0.7903\n",
            "Epoch 45/100\n",
            "62/62 [==============================] - 45s 724ms/step - loss: 0.4896 - acc: 0.7678 - val_loss: 0.4560 - val_acc: 0.7838\n",
            "Epoch 46/100\n",
            "62/62 [==============================] - 45s 725ms/step - loss: 0.4885 - acc: 0.7663 - val_loss: 0.5461 - val_acc: 0.7364\n",
            "Epoch 47/100\n",
            "62/62 [==============================] - 45s 728ms/step - loss: 0.4847 - acc: 0.7665 - val_loss: 0.4879 - val_acc: 0.7717\n",
            "Epoch 48/100\n",
            "62/62 [==============================] - 45s 729ms/step - loss: 0.4916 - acc: 0.7609 - val_loss: 0.4756 - val_acc: 0.7656\n",
            "Epoch 49/100\n",
            "62/62 [==============================] - 45s 725ms/step - loss: 0.4727 - acc: 0.7685 - val_loss: 0.4566 - val_acc: 0.7918\n",
            "Epoch 50/100\n",
            "62/62 [==============================] - 47s 765ms/step - loss: 0.4836 - acc: 0.7591 - val_loss: 0.4506 - val_acc: 0.7843\n",
            "Epoch 51/100\n",
            "62/62 [==============================] - 45s 725ms/step - loss: 0.4625 - acc: 0.7772 - val_loss: 0.5452 - val_acc: 0.7404\n",
            "Epoch 52/100\n",
            "62/62 [==============================] - 45s 725ms/step - loss: 0.4718 - acc: 0.7731 - val_loss: 0.4358 - val_acc: 0.7918\n",
            "Epoch 53/100\n",
            "62/62 [==============================] - 45s 735ms/step - loss: 0.4710 - acc: 0.7701 - val_loss: 0.4326 - val_acc: 0.8034\n",
            "Epoch 54/100\n",
            "62/62 [==============================] - 47s 756ms/step - loss: 0.4633 - acc: 0.7769 - val_loss: 0.5029 - val_acc: 0.7661\n",
            "Epoch 55/100\n",
            "62/62 [==============================] - 45s 723ms/step - loss: 0.4609 - acc: 0.7825 - val_loss: 0.4313 - val_acc: 0.7949\n",
            "Epoch 56/100\n",
            "62/62 [==============================] - 47s 760ms/step - loss: 0.4615 - acc: 0.7749 - val_loss: 0.4624 - val_acc: 0.7858\n",
            "Epoch 57/100\n",
            "62/62 [==============================] - 46s 749ms/step - loss: 0.4553 - acc: 0.7815 - val_loss: 0.6207 - val_acc: 0.7293\n",
            "Epoch 58/100\n",
            "62/62 [==============================] - 45s 726ms/step - loss: 0.4571 - acc: 0.7800 - val_loss: 0.4519 - val_acc: 0.7853\n",
            "Epoch 59/100\n",
            "62/62 [==============================] - 47s 762ms/step - loss: 0.4489 - acc: 0.7873 - val_loss: 0.4418 - val_acc: 0.7989\n",
            "Epoch 60/100\n",
            "62/62 [==============================] - 45s 722ms/step - loss: 0.4531 - acc: 0.7846 - val_loss: 0.4422 - val_acc: 0.8004\n",
            "Epoch 61/100\n",
            "62/62 [==============================] - 45s 726ms/step - loss: 0.4566 - acc: 0.7785 - val_loss: 0.4267 - val_acc: 0.8140\n",
            "Epoch 62/100\n",
            "62/62 [==============================] - 46s 734ms/step - loss: 0.4520 - acc: 0.7901 - val_loss: 0.4548 - val_acc: 0.7959\n",
            "Epoch 63/100\n",
            "62/62 [==============================] - 46s 739ms/step - loss: 0.4518 - acc: 0.7873 - val_loss: 0.4208 - val_acc: 0.8039\n",
            "Epoch 64/100\n",
            "62/62 [==============================] - 48s 771ms/step - loss: 0.4518 - acc: 0.7830 - val_loss: 0.4240 - val_acc: 0.8080\n",
            "Epoch 65/100\n",
            "62/62 [==============================] - 45s 734ms/step - loss: 0.4459 - acc: 0.7843 - val_loss: 0.4158 - val_acc: 0.8130\n",
            "Epoch 66/100\n",
            "62/62 [==============================] - 47s 764ms/step - loss: 0.4367 - acc: 0.7909 - val_loss: 0.4099 - val_acc: 0.8110\n",
            "Epoch 67/100\n",
            "62/62 [==============================] - 48s 774ms/step - loss: 0.4426 - acc: 0.7922 - val_loss: 0.4885 - val_acc: 0.7818\n",
            "Epoch 68/100\n",
            "62/62 [==============================] - 45s 729ms/step - loss: 0.4459 - acc: 0.7907 - val_loss: 0.4064 - val_acc: 0.8185\n",
            "Epoch 69/100\n",
            "62/62 [==============================] - 45s 736ms/step - loss: 0.4361 - acc: 0.7937 - val_loss: 0.4332 - val_acc: 0.8019\n",
            "Epoch 70/100\n",
            "62/62 [==============================] - 47s 767ms/step - loss: 0.4331 - acc: 0.7975 - val_loss: 0.4043 - val_acc: 0.8196\n",
            "Epoch 71/100\n",
            "62/62 [==============================] - 45s 732ms/step - loss: 0.4354 - acc: 0.7975 - val_loss: 0.4115 - val_acc: 0.8160\n",
            "Epoch 72/100\n",
            "62/62 [==============================] - 46s 738ms/step - loss: 0.4219 - acc: 0.8067 - val_loss: 0.4123 - val_acc: 0.8120\n",
            "Epoch 73/100\n",
            "62/62 [==============================] - 46s 741ms/step - loss: 0.4230 - acc: 0.8021 - val_loss: 0.4451 - val_acc: 0.7994\n",
            "Epoch 74/100\n",
            "62/62 [==============================] - 45s 738ms/step - loss: 0.4323 - acc: 0.7995 - val_loss: 0.5298 - val_acc: 0.7767\n",
            "Epoch 75/100\n",
            "62/62 [==============================] - 47s 765ms/step - loss: 0.4275 - acc: 0.8028 - val_loss: 0.4093 - val_acc: 0.8201\n",
            "Epoch 76/100\n",
            "62/62 [==============================] - 47s 754ms/step - loss: 0.4139 - acc: 0.8089 - val_loss: 0.4105 - val_acc: 0.8135\n",
            "Epoch 77/100\n",
            "62/62 [==============================] - 46s 738ms/step - loss: 0.4153 - acc: 0.8046 - val_loss: 0.4126 - val_acc: 0.8175\n",
            "Epoch 78/100\n",
            "62/62 [==============================] - 47s 764ms/step - loss: 0.4280 - acc: 0.7983 - val_loss: 0.4627 - val_acc: 0.7903\n",
            "Epoch 79/100\n",
            "62/62 [==============================] - 45s 722ms/step - loss: 0.4249 - acc: 0.8008 - val_loss: 0.4434 - val_acc: 0.7959\n",
            "Epoch 80/100\n",
            "62/62 [==============================] - 45s 723ms/step - loss: 0.4263 - acc: 0.8054 - val_loss: 0.4311 - val_acc: 0.8024\n",
            "Epoch 81/100\n",
            "62/62 [==============================] - 46s 745ms/step - loss: 0.4102 - acc: 0.8158 - val_loss: 0.3815 - val_acc: 0.8246\n",
            "Epoch 82/100\n",
            "62/62 [==============================] - 46s 742ms/step - loss: 0.4038 - acc: 0.8112 - val_loss: 0.5708 - val_acc: 0.7384\n",
            "Epoch 83/100\n",
            "62/62 [==============================] - 45s 733ms/step - loss: 0.4084 - acc: 0.8067 - val_loss: 0.4233 - val_acc: 0.8125\n",
            "Epoch 84/100\n",
            "62/62 [==============================] - 47s 753ms/step - loss: 0.4076 - acc: 0.8161 - val_loss: 0.3997 - val_acc: 0.8251\n",
            "Epoch 85/100\n",
            "62/62 [==============================] - 45s 722ms/step - loss: 0.4096 - acc: 0.8107 - val_loss: 0.4492 - val_acc: 0.7939\n",
            "Epoch 86/100\n",
            "62/62 [==============================] - 45s 723ms/step - loss: 0.4174 - acc: 0.8107 - val_loss: 0.4473 - val_acc: 0.7979\n",
            "Epoch 87/100\n",
            "62/62 [==============================] - 46s 735ms/step - loss: 0.4035 - acc: 0.8130 - val_loss: 0.3977 - val_acc: 0.8145\n",
            "Epoch 88/100\n",
            "62/62 [==============================] - 44s 723ms/step - loss: 0.4066 - acc: 0.8082 - val_loss: 0.3813 - val_acc: 0.8311\n",
            "Epoch 89/100\n",
            "62/62 [==============================] - 45s 725ms/step - loss: 0.4022 - acc: 0.8168 - val_loss: 0.3900 - val_acc: 0.8271\n",
            "Epoch 90/100\n",
            "62/62 [==============================] - 47s 755ms/step - loss: 0.3916 - acc: 0.8262 - val_loss: 0.5944 - val_acc: 0.7535\n",
            "Epoch 91/100\n",
            "62/62 [==============================] - 45s 725ms/step - loss: 0.3884 - acc: 0.8206 - val_loss: 0.4128 - val_acc: 0.8231\n",
            "Epoch 92/100\n",
            "62/62 [==============================] - 47s 759ms/step - loss: 0.3962 - acc: 0.8227 - val_loss: 0.4191 - val_acc: 0.8145\n",
            "Epoch 93/100\n",
            "62/62 [==============================] - 45s 722ms/step - loss: 0.4024 - acc: 0.8237 - val_loss: 0.3864 - val_acc: 0.8266\n",
            "Epoch 94/100\n",
            "62/62 [==============================] - 46s 744ms/step - loss: 0.3987 - acc: 0.8168 - val_loss: 0.3861 - val_acc: 0.8342\n",
            "Epoch 95/100\n",
            "62/62 [==============================] - 47s 762ms/step - loss: 0.3916 - acc: 0.8171 - val_loss: 0.3931 - val_acc: 0.8206\n",
            "Epoch 96/100\n",
            "62/62 [==============================] - 47s 749ms/step - loss: 0.3953 - acc: 0.8181 - val_loss: 0.4395 - val_acc: 0.7959\n",
            "Epoch 97/100\n",
            "62/62 [==============================] - 47s 763ms/step - loss: 0.3922 - acc: 0.8255 - val_loss: 0.4137 - val_acc: 0.8160\n",
            "Epoch 98/100\n",
            "62/62 [==============================] - 45s 731ms/step - loss: 0.3902 - acc: 0.8283 - val_loss: 0.3652 - val_acc: 0.8377\n",
            "Epoch 99/100\n",
            "62/62 [==============================] - 46s 743ms/step - loss: 0.3820 - acc: 0.8310 - val_loss: 0.4324 - val_acc: 0.8150\n",
            "Epoch 100/100\n",
            "62/62 [==============================] - 45s 723ms/step - loss: 0.3833 - acc: 0.8265 - val_loss: 0.3727 - val_acc: 0.8402\n"
          ]
        }
      ]
    },
    {
      "cell_type": "markdown",
      "source": [
        " #### Plotting the results"
      ],
      "metadata": {
        "id": "guAdA5eqqIcr"
      }
    },
    {
      "cell_type": "code",
      "source": [
        "import matplotlib.pyplot as plt\n",
        "acc = history.history['acc']\n",
        "val_acc = history.history['val_acc']\n",
        "loss = history.history['loss']\n",
        "val_loss = history.history['val_loss']\n",
        "epochs = range(1, len(acc) + 1)\n",
        "plt.plot(epochs, acc, 'bo', label='Training acc')\n",
        "plt.plot(epochs, val_acc, 'b', label='Validation acc')\n",
        "plt.title('Training and validation accuracy')\n",
        "plt.legend()\n",
        "plt.figure()\n",
        "plt.plot(epochs, loss, 'bo', label='Training loss')\n",
        "plt.plot(epochs, val_loss, 'b', label='Validation loss')\n",
        "plt.title('Training and validation loss')\n",
        "plt.legend()\n",
        "plt.show()\n",
        "# validation accuracy 84\n",
        "# Training accuracy  ~83\n",
        "# Validation Loss ~0.36\n",
        "# Training Loss ~0.38\n",
        "\n"
      ],
      "metadata": {
        "colab": {
          "base_uri": "https://localhost:8080/",
          "height": 545
        },
        "id": "WOhii3emqMoP",
        "outputId": "4e4973df-1010-4e4c-c0da-6837f40b0156"
      },
      "execution_count": 15,
      "outputs": [
        {
          "output_type": "display_data",
          "data": {
            "text/plain": [
              "<Figure size 432x288 with 1 Axes>"
            ],
            "image/png": "[encoded data removed]"
          },
          "metadata": {
            "needs_background": "light"
          }
        },
        {
          "output_type": "display_data",
          "data": {
            "text/plain": [
              "<Figure size 432x288 with 1 Axes>"
            ],
            "image/png": "[encoded data removed]"
          },
          "metadata": {
            "needs_background": "light"
          }
        }
      ]
    },
    {
      "cell_type": "markdown",
      "source": [
        "###4. Repeat Steps 1-3, but now using a pretrained network. The sample sizes you use in Steps 2 and 3 for the pretrained network may be the same or different from those using the network where you trained from scratch. Again, use any and all optimization techniques to get best performance"
      ],
      "metadata": {
        "id": "eqhLRxDI0dBw"
      }
    },
    {
      "cell_type": "markdown",
      "source": [
        "####Using pretrained convnet(VGG16)"
      ],
      "metadata": {
        "id": "TAvhAtoppQsR"
      }
    },
    {
      "cell_type": "code",
      "source": [
        "from keras.applications import VGG16\n",
        "conv_base = VGG16(weights='imagenet',\n",
        "include_top=False,\n",
        "input_shape=(150, 150, 3))\n",
        "\n",
        "conv_base.summary()"
      ],
      "metadata": {
        "colab": {
          "base_uri": "https://localhost:8080/"
        },
        "id": "JZiTsVhgpqlf",
        "outputId": "d35b25a2-ec8d-4ada-d844-a4072bb2cd86"
      },
      "execution_count": 16,
      "outputs": [
        {
          "output_type": "stream",
          "name": "stdout",
          "text": [
            "Downloading data from https://storage.googleapis.com/tensorflow/keras-applications/vgg16/vgg16_weights_tf_dim_ordering_tf_kernels_notop.h5\n",
            "58889256/58889256 [==============================] - 0s 0us/step\n",
            "Model: \"vgg16\"\n",
            "_________________________________________________________________\n",
            " Layer (type)                Output Shape              Param #   \n",
            "=================================================================\n",
            " input_1 (InputLayer)        [(None, 150, 150, 3)]     0         \n",
            "                                                                 \n",
            " block1_conv1 (Conv2D)       (None, 150, 150, 64)      1792      \n",
            "                                                                 \n",
            " block1_conv2 (Conv2D)       (None, 150, 150, 64)      36928     \n",
            "                                                                 \n",
            " block1_pool (MaxPooling2D)  (None, 75, 75, 64)        0         \n",
            "                                                                 \n",
            " block2_conv1 (Conv2D)       (None, 75, 75, 128)       73856     \n",
            "                                                                 \n",
            " block2_conv2 (Conv2D)       (None, 75, 75, 128)       147584    \n",
            "                                                                 \n",
            " block2_pool (MaxPooling2D)  (None, 37, 37, 128)       0         \n",
            "                                                                 \n",
            " block3_conv1 (Conv2D)       (None, 37, 37, 256)       295168    \n",
            "                                                                 \n",
            " block3_conv2 (Conv2D)       (None, 37, 37, 256)       590080    \n",
            "                                                                 \n",
            " block3_conv3 (Conv2D)       (None, 37, 37, 256)       590080    \n",
            "                                                                 \n",
            " block3_pool (MaxPooling2D)  (None, 18, 18, 256)       0         \n",
            "                                                                 \n",
            " block4_conv1 (Conv2D)       (None, 18, 18, 512)       1180160   \n",
            "                                                                 \n",
            " block4_conv2 (Conv2D)       (None, 18, 18, 512)       2359808   \n",
            "                                                                 \n",
            " block4_conv3 (Conv2D)       (None, 18, 18, 512)       2359808   \n",
            "                                                                 \n",
            " block4_pool (MaxPooling2D)  (None, 9, 9, 512)         0         \n",
            "                                                                 \n",
            " block5_conv1 (Conv2D)       (None, 9, 9, 512)         2359808   \n",
            "                                                                 \n",
            " block5_conv2 (Conv2D)       (None, 9, 9, 512)         2359808   \n",
            "                                                                 \n",
            " block5_conv3 (Conv2D)       (None, 9, 9, 512)         2359808   \n",
            "                                                                 \n",
            " block5_pool (MaxPooling2D)  (None, 4, 4, 512)         0         \n",
            "                                                                 \n",
            "=================================================================\n",
            "Total params: 14,714,688\n",
            "Trainable params: 14,714,688\n",
            "Non-trainable params: 0\n",
            "_________________________________________________________________\n"
          ]
        }
      ]
    },
    {
      "cell_type": "markdown",
      "source": [
        "####Extracting features using the pretrained convolutional base\n"
      ],
      "metadata": {
        "id": "w-HAn1pMp1Bk"
      }
    },
    {
      "cell_type": "code",
      "source": [
        "import os\n",
        "import numpy as np\n",
        "from keras.preprocessing.image import ImageDataGenerator\n",
        "base_dir = '/content/drive/MyDrive/AML/cats_and_dogs_random'\n",
        "train_dir = os.path.join(base_dir, 'train')\n",
        "validation_dir = os.path.join(base_dir, 'validation')\n",
        "test_dir = os.path.join(base_dir, 'test')\n",
        "datagen = ImageDataGenerator(rescale=1./255)\n",
        "batch_size = 20\n",
        "def extract_features(directory, sample_count):\n",
        "    features = np.zeros(shape=(sample_count, 4, 4, 512))\n",
        "    labels = np.zeros(shape=(sample_count))\n",
        "    generator = datagen.flow_from_directory(\n",
        "      directory,\n",
        "      target_size=(150, 150),\n",
        "      batch_size=batch_size,\n",
        "      class_mode='binary')\n",
        "    i=0\n",
        "    for inputs_batch, labels_batch in generator:\n",
        "        features_batch = conv_base.predict(inputs_batch)\n",
        "        features[i * batch_size : (i + 1) * batch_size] = features_batch\n",
        "        labels[i * batch_size : (i + 1) * batch_size] = labels_batch\n",
        "        i += 1\n",
        "        if i * batch_size >= sample_count:\n",
        "            break\n",
        "    return features, labels\n",
        "\n",
        "train_features, train_labels = extract_features(train_dir, 2000)\n",
        "validation_features, validation_labels = extract_features(validation_dir, 1000)\n",
        "test_features, test_labels = extract_features(test_dir, 1000)\n",
        "\n",
        "train_features = np.reshape(train_features, (2000, 4*4* 512))\n",
        "validation_features = np.reshape(validation_features, (1000, 4*4* 512))\n",
        "test_features = np.reshape(test_features, (1000, 4*4* 512))"
      ],
      "metadata": {
        "colab": {
          "base_uri": "https://localhost:8080/"
        },
        "id": "cGq9A7okp0dX",
        "outputId": "1dc35094-2903-44fa-e70c-884b8ec0e5d0"
      },
      "execution_count": 18,
      "outputs": [
        {
          "output_type": "stream",
          "name": "stdout",
          "text": [
            "Found 4000 images belonging to 2 classes.\n",
            "1/1 [==============================] - 0s 35ms/step\n",
            "1/1 [==============================] - 0s 21ms/step\n",
            "1/1 [==============================] - 0s 21ms/step\n",
            "1/1 [==============================] - 0s 23ms/step\n",
            "1/1 [==============================] - 0s 24ms/step\n",
            "1/1 [==============================] - 0s 24ms/step\n",
            "1/1 [==============================] - 0s 23ms/step\n",
            "1/1 [==============================] - 0s 21ms/step\n",
            "1/1 [==============================] - 0s 26ms/step\n",
            "1/1 [==============================] - 0s 22ms/step\n",
            "1/1 [==============================] - 0s 29ms/step\n",
            "1/1 [==============================] - 0s 23ms/step\n",
            "1/1 [==============================] - 0s 24ms/step\n",
            "1/1 [==============================] - 0s 23ms/step\n",
            "1/1 [==============================] - 0s 23ms/step\n",
            "1/1 [==============================] - 0s 21ms/step\n",
            "1/1 [==============================] - 0s 22ms/step\n",
            "1/1 [==============================] - 0s 25ms/step\n",
            "1/1 [==============================] - 0s 25ms/step\n",
            "1/1 [==============================] - 0s 29ms/step\n",
            "1/1 [==============================] - 0s 21ms/step\n",
            "1/1 [==============================] - 0s 23ms/step\n",
            "1/1 [==============================] - 0s 22ms/step\n",
            "1/1 [==============================] - 0s 23ms/step\n",
            "1/1 [==============================] - 0s 25ms/step\n",
            "1/1 [==============================] - 0s 24ms/step\n",
            "1/1 [==============================] - 0s 22ms/step\n",
            "1/1 [==============================] - 0s 23ms/step\n",
            "1/1 [==============================] - 0s 23ms/step\n",
            "1/1 [==============================] - 0s 21ms/step\n",
            "1/1 [==============================] - 0s 28ms/step\n",
            "1/1 [==============================] - 0s 22ms/step\n",
            "1/1 [==============================] - 0s 22ms/step\n",
            "1/1 [==============================] - 0s 25ms/step\n",
            "1/1 [==============================] - 0s 21ms/step\n",
            "1/1 [==============================] - 0s 27ms/step\n",
            "1/1 [==============================] - 0s 21ms/step\n",
            "1/1 [==============================] - 0s 23ms/step\n",
            "1/1 [==============================] - 0s 24ms/step\n",
            "1/1 [==============================] - 0s 21ms/step\n",
            "1/1 [==============================] - 0s 22ms/step\n",
            "1/1 [==============================] - 0s 26ms/step\n",
            "1/1 [==============================] - 0s 31ms/step\n",
            "1/1 [==============================] - 0s 35ms/step\n",
            "1/1 [==============================] - 0s 29ms/step\n",
            "1/1 [==============================] - 0s 30ms/step\n",
            "1/1 [==============================] - 0s 29ms/step\n",
            "1/1 [==============================] - 0s 31ms/step\n",
            "1/1 [==============================] - 0s 32ms/step\n",
            "1/1 [==============================] - 0s 35ms/step\n",
            "1/1 [==============================] - 0s 34ms/step\n",
            "1/1 [==============================] - 0s 33ms/step\n",
            "1/1 [==============================] - 0s 27ms/step\n",
            "1/1 [==============================] - 0s 21ms/step\n",
            "1/1 [==============================] - 0s 24ms/step\n",
            "1/1 [==============================] - 0s 26ms/step\n",
            "1/1 [==============================] - 0s 23ms/step\n",
            "1/1 [==============================] - 0s 23ms/step\n",
            "1/1 [==============================] - 0s 22ms/step\n",
            "1/1 [==============================] - 0s 25ms/step\n",
            "1/1 [==============================] - 0s 23ms/step\n",
            "1/1 [==============================] - 0s 21ms/step\n",
            "1/1 [==============================] - 0s 24ms/step\n",
            "1/1 [==============================] - 0s 24ms/step\n",
            "1/1 [==============================] - 0s 24ms/step\n",
            "1/1 [==============================] - 0s 25ms/step\n",
            "1/1 [==============================] - 0s 24ms/step\n",
            "1/1 [==============================] - 0s 21ms/step\n",
            "1/1 [==============================] - 0s 21ms/step\n",
            "1/1 [==============================] - 0s 26ms/step\n",
            "1/1 [==============================] - 0s 22ms/step\n",
            "1/1 [==============================] - 0s 22ms/step\n",
            "1/1 [==============================] - 0s 22ms/step\n",
            "1/1 [==============================] - 0s 22ms/step\n",
            "1/1 [==============================] - 0s 31ms/step\n",
            "1/1 [==============================] - 0s 22ms/step\n",
            "1/1 [==============================] - 0s 24ms/step\n",
            "1/1 [==============================] - 0s 24ms/step\n",
            "1/1 [==============================] - 0s 25ms/step\n",
            "1/1 [==============================] - 0s 21ms/step\n",
            "1/1 [==============================] - 0s 26ms/step\n",
            "1/1 [==============================] - 0s 23ms/step\n",
            "1/1 [==============================] - 0s 21ms/step\n",
            "1/1 [==============================] - 0s 24ms/step\n",
            "1/1 [==============================] - 0s 25ms/step\n",
            "1/1 [==============================] - 0s 24ms/step\n",
            "1/1 [==============================] - 0s 22ms/step\n",
            "1/1 [==============================] - 0s 22ms/step\n",
            "1/1 [==============================] - 0s 22ms/step\n",
            "1/1 [==============================] - 0s 23ms/step\n",
            "1/1 [==============================] - 0s 25ms/step\n",
            "1/1 [==============================] - 0s 22ms/step\n",
            "1/1 [==============================] - 0s 26ms/step\n",
            "1/1 [==============================] - 0s 22ms/step\n",
            "1/1 [==============================] - 0s 37ms/step\n",
            "1/1 [==============================] - 0s 31ms/step\n",
            "1/1 [==============================] - 0s 34ms/step\n",
            "1/1 [==============================] - 0s 31ms/step\n",
            "1/1 [==============================] - 0s 32ms/step\n",
            "1/1 [==============================] - 0s 32ms/step\n",
            "Found 2000 images belonging to 2 classes.\n",
            "1/1 [==============================] - 0s 66ms/step\n",
            "1/1 [==============================] - 0s 83ms/step\n",
            "1/1 [==============================] - 0s 33ms/step\n",
            "1/1 [==============================] - 0s 35ms/step\n",
            "1/1 [==============================] - 0s 35ms/step\n",
            "1/1 [==============================] - 0s 22ms/step\n",
            "1/1 [==============================] - 0s 22ms/step\n",
            "1/1 [==============================] - 0s 21ms/step\n",
            "1/1 [==============================] - 0s 22ms/step\n",
            "1/1 [==============================] - 0s 22ms/step\n",
            "1/1 [==============================] - 0s 21ms/step\n",
            "1/1 [==============================] - 0s 22ms/step\n",
            "1/1 [==============================] - 0s 26ms/step\n",
            "1/1 [==============================] - 0s 26ms/step\n",
            "1/1 [==============================] - 0s 23ms/step\n",
            "1/1 [==============================] - 0s 22ms/step\n",
            "1/1 [==============================] - 0s 21ms/step\n",
            "1/1 [==============================] - 0s 24ms/step\n",
            "1/1 [==============================] - 0s 21ms/step\n",
            "1/1 [==============================] - 0s 24ms/step\n",
            "1/1 [==============================] - 0s 22ms/step\n",
            "1/1 [==============================] - 0s 23ms/step\n",
            "1/1 [==============================] - 0s 22ms/step\n",
            "1/1 [==============================] - 0s 22ms/step\n",
            "1/1 [==============================] - 0s 23ms/step\n",
            "1/1 [==============================] - 0s 23ms/step\n",
            "1/1 [==============================] - 0s 22ms/step\n",
            "1/1 [==============================] - 0s 23ms/step\n",
            "1/1 [==============================] - 0s 22ms/step\n",
            "1/1 [==============================] - 0s 29ms/step\n",
            "1/1 [==============================] - 0s 23ms/step\n",
            "1/1 [==============================] - 0s 24ms/step\n",
            "1/1 [==============================] - 0s 24ms/step\n",
            "1/1 [==============================] - 0s 23ms/step\n",
            "1/1 [==============================] - 0s 22ms/step\n",
            "1/1 [==============================] - 0s 23ms/step\n",
            "1/1 [==============================] - 0s 22ms/step\n",
            "1/1 [==============================] - 0s 22ms/step\n",
            "1/1 [==============================] - 0s 24ms/step\n",
            "1/1 [==============================] - 0s 23ms/step\n",
            "1/1 [==============================] - 0s 21ms/step\n",
            "1/1 [==============================] - 0s 24ms/step\n",
            "1/1 [==============================] - 0s 21ms/step\n",
            "1/1 [==============================] - 0s 24ms/step\n",
            "1/1 [==============================] - 0s 25ms/step\n",
            "1/1 [==============================] - 0s 22ms/step\n",
            "1/1 [==============================] - 0s 26ms/step\n",
            "1/1 [==============================] - 0s 23ms/step\n",
            "1/1 [==============================] - 0s 38ms/step\n",
            "1/1 [==============================] - 0s 32ms/step\n",
            "Found 2000 images belonging to 2 classes.\n",
            "1/1 [==============================] - 0s 23ms/step\n",
            "1/1 [==============================] - 0s 21ms/step\n",
            "1/1 [==============================] - 0s 32ms/step\n",
            "1/1 [==============================] - 0s 23ms/step\n",
            "1/1 [==============================] - 0s 23ms/step\n",
            "1/1 [==============================] - 0s 22ms/step\n",
            "1/1 [==============================] - 0s 24ms/step\n",
            "1/1 [==============================] - 0s 21ms/step\n",
            "1/1 [==============================] - 0s 22ms/step\n",
            "1/1 [==============================] - 0s 34ms/step\n",
            "1/1 [==============================] - 0s 23ms/step\n",
            "1/1 [==============================] - 0s 22ms/step\n",
            "1/1 [==============================] - 0s 22ms/step\n",
            "1/1 [==============================] - 0s 21ms/step\n",
            "1/1 [==============================] - 0s 30ms/step\n",
            "1/1 [==============================] - 0s 21ms/step\n",
            "1/1 [==============================] - 0s 23ms/step\n",
            "1/1 [==============================] - 0s 22ms/step\n",
            "1/1 [==============================] - 0s 22ms/step\n",
            "1/1 [==============================] - 0s 22ms/step\n",
            "1/1 [==============================] - 0s 30ms/step\n",
            "1/1 [==============================] - 0s 22ms/step\n",
            "1/1 [==============================] - 0s 21ms/step\n",
            "1/1 [==============================] - 0s 21ms/step\n",
            "1/1 [==============================] - 0s 22ms/step\n",
            "1/1 [==============================] - 0s 27ms/step\n",
            "1/1 [==============================] - 0s 29ms/step\n",
            "1/1 [==============================] - 0s 31ms/step\n",
            "1/1 [==============================] - 0s 21ms/step\n",
            "1/1 [==============================] - 0s 21ms/step\n",
            "1/1 [==============================] - 0s 22ms/step\n",
            "1/1 [==============================] - 0s 22ms/step\n",
            "1/1 [==============================] - 0s 27ms/step\n",
            "1/1 [==============================] - 0s 32ms/step\n",
            "1/1 [==============================] - 0s 22ms/step\n",
            "1/1 [==============================] - 0s 24ms/step\n",
            "1/1 [==============================] - 0s 23ms/step\n",
            "1/1 [==============================] - 0s 22ms/step\n",
            "1/1 [==============================] - 0s 34ms/step\n",
            "1/1 [==============================] - 0s 24ms/step\n",
            "1/1 [==============================] - 0s 21ms/step\n",
            "1/1 [==============================] - 0s 22ms/step\n",
            "1/1 [==============================] - 0s 24ms/step\n",
            "1/1 [==============================] - 0s 23ms/step\n",
            "1/1 [==============================] - 0s 31ms/step\n",
            "1/1 [==============================] - 0s 22ms/step\n",
            "1/1 [==============================] - 0s 24ms/step\n",
            "1/1 [==============================] - 0s 24ms/step\n",
            "1/1 [==============================] - 0s 26ms/step\n",
            "1/1 [==============================] - 0s 24ms/step\n"
          ]
        }
      ]
    },
    {
      "cell_type": "markdown",
      "source": [
        "#### Defining and training the densely connected classifier"
      ],
      "metadata": {
        "id": "s5hoZSrxp_Lr"
      }
    },
    {
      "cell_type": "code",
      "source": [
        "from keras import models\n",
        "from keras import layers\n",
        "from keras import optimizers\n",
        "model = models.Sequential()\n",
        "model.add(layers.Dense(256, activation='relu', input_dim=4 * 4 * 512))\n",
        "model.add(layers.Dropout(0.5))\n",
        "model.add(layers.Dense(1, activation='sigmoid'))\n",
        "model.compile(optimizer=optimizers.RMSprop(learning_rate=2e-5),\n",
        "loss='binary_crossentropy',\n",
        "metrics=['acc'])\n",
        "history = model.fit(train_features, train_labels,\n",
        "epochs=30,\n",
        "batch_size=20,\n",
        "validation_data=(validation_features, validation_labels))\n"
      ],
      "metadata": {
        "colab": {
          "base_uri": "https://localhost:8080/"
        },
        "id": "qRXww7lLqDl_",
        "outputId": "85eef6ff-4bbb-4b59-c11c-b07c1c327ff6"
      },
      "execution_count": 19,
      "outputs": [
        {
          "output_type": "stream",
          "name": "stdout",
          "text": [
            "Epoch 1/30\n",
            "100/100 [==============================] - 1s 8ms/step - loss: 0.6006 - acc: 0.6625 - val_loss: 0.4530 - val_acc: 0.8200\n",
            "Epoch 2/30\n",
            "100/100 [==============================] - 1s 5ms/step - loss: 0.4220 - acc: 0.8180 - val_loss: 0.3812 - val_acc: 0.8490\n",
            "Epoch 3/30\n",
            "100/100 [==============================] - 1s 5ms/step - loss: 0.3692 - acc: 0.8380 - val_loss: 0.3429 - val_acc: 0.8600\n",
            "Epoch 4/30\n",
            "100/100 [==============================] - 1s 6ms/step - loss: 0.3335 - acc: 0.8545 - val_loss: 0.3254 - val_acc: 0.8670\n",
            "Epoch 5/30\n",
            "100/100 [==============================] - 1s 6ms/step - loss: 0.2952 - acc: 0.8770 - val_loss: 0.3067 - val_acc: 0.8690\n",
            "Epoch 6/30\n",
            "100/100 [==============================] - 0s 5ms/step - loss: 0.2777 - acc: 0.8825 - val_loss: 0.2953 - val_acc: 0.8740\n",
            "Epoch 7/30\n",
            "100/100 [==============================] - 0s 5ms/step - loss: 0.2601 - acc: 0.8975 - val_loss: 0.2858 - val_acc: 0.8770\n",
            "Epoch 8/30\n",
            "100/100 [==============================] - 0s 4ms/step - loss: 0.2414 - acc: 0.9055 - val_loss: 0.2844 - val_acc: 0.8790\n",
            "Epoch 9/30\n",
            "100/100 [==============================] - 0s 4ms/step - loss: 0.2403 - acc: 0.9065 - val_loss: 0.2756 - val_acc: 0.8830\n",
            "Epoch 10/30\n",
            "100/100 [==============================] - 0s 4ms/step - loss: 0.2229 - acc: 0.9165 - val_loss: 0.2709 - val_acc: 0.8800\n",
            "Epoch 11/30\n",
            "100/100 [==============================] - 0s 5ms/step - loss: 0.2149 - acc: 0.9145 - val_loss: 0.2686 - val_acc: 0.8810\n",
            "Epoch 12/30\n",
            "100/100 [==============================] - 0s 4ms/step - loss: 0.2010 - acc: 0.9245 - val_loss: 0.2652 - val_acc: 0.8850\n",
            "Epoch 13/30\n",
            "100/100 [==============================] - 0s 5ms/step - loss: 0.1958 - acc: 0.9245 - val_loss: 0.2670 - val_acc: 0.8820\n",
            "Epoch 14/30\n",
            "100/100 [==============================] - 0s 4ms/step - loss: 0.1791 - acc: 0.9390 - val_loss: 0.2614 - val_acc: 0.8870\n",
            "Epoch 15/30\n",
            "100/100 [==============================] - 0s 5ms/step - loss: 0.1797 - acc: 0.9345 - val_loss: 0.2669 - val_acc: 0.8820\n",
            "Epoch 16/30\n",
            "100/100 [==============================] - 0s 5ms/step - loss: 0.1758 - acc: 0.9405 - val_loss: 0.2593 - val_acc: 0.8870\n",
            "Epoch 17/30\n",
            "100/100 [==============================] - 0s 4ms/step - loss: 0.1653 - acc: 0.9350 - val_loss: 0.2604 - val_acc: 0.8820\n",
            "Epoch 18/30\n",
            "100/100 [==============================] - 0s 4ms/step - loss: 0.1572 - acc: 0.9420 - val_loss: 0.2557 - val_acc: 0.8870\n",
            "Epoch 19/30\n",
            "100/100 [==============================] - 0s 4ms/step - loss: 0.1512 - acc: 0.9445 - val_loss: 0.2547 - val_acc: 0.8890\n",
            "Epoch 20/30\n",
            "100/100 [==============================] - 0s 4ms/step - loss: 0.1407 - acc: 0.9525 - val_loss: 0.2556 - val_acc: 0.8900\n",
            "Epoch 21/30\n",
            "100/100 [==============================] - 0s 5ms/step - loss: 0.1402 - acc: 0.9545 - val_loss: 0.2547 - val_acc: 0.8890\n",
            "Epoch 22/30\n",
            "100/100 [==============================] - 0s 4ms/step - loss: 0.1350 - acc: 0.9585 - val_loss: 0.2539 - val_acc: 0.8890\n",
            "Epoch 23/30\n",
            "100/100 [==============================] - 0s 5ms/step - loss: 0.1261 - acc: 0.9580 - val_loss: 0.2611 - val_acc: 0.8800\n",
            "Epoch 24/30\n",
            "100/100 [==============================] - 0s 4ms/step - loss: 0.1212 - acc: 0.9665 - val_loss: 0.2546 - val_acc: 0.8900\n",
            "Epoch 25/30\n",
            "100/100 [==============================] - 0s 4ms/step - loss: 0.1226 - acc: 0.9565 - val_loss: 0.2553 - val_acc: 0.8890\n",
            "Epoch 26/30\n",
            "100/100 [==============================] - 0s 4ms/step - loss: 0.1170 - acc: 0.9650 - val_loss: 0.2621 - val_acc: 0.8800\n",
            "Epoch 27/30\n",
            "100/100 [==============================] - 0s 5ms/step - loss: 0.1123 - acc: 0.9645 - val_loss: 0.2575 - val_acc: 0.8840\n",
            "Epoch 28/30\n",
            "100/100 [==============================] - 0s 5ms/step - loss: 0.1108 - acc: 0.9700 - val_loss: 0.2571 - val_acc: 0.8870\n",
            "Epoch 29/30\n",
            "100/100 [==============================] - 1s 6ms/step - loss: 0.1007 - acc: 0.9710 - val_loss: 0.2563 - val_acc: 0.8870\n",
            "Epoch 30/30\n",
            "100/100 [==============================] - 1s 5ms/step - loss: 0.0997 - acc: 0.9715 - val_loss: 0.2592 - val_acc: 0.8820\n"
          ]
        }
      ]
    },
    {
      "cell_type": "code",
      "source": [
        "model.save('cats_and_dogs_small_03_pretrained.h5')"
      ],
      "metadata": {
        "id": "omBuaGiHJbdG"
      },
      "execution_count": 20,
      "outputs": []
    },
    {
      "cell_type": "markdown",
      "source": [
        " #### Plotting the results"
      ],
      "metadata": {
        "id": "fnY1hmyTJgXG"
      }
    },
    {
      "cell_type": "code",
      "source": [
        "import matplotlib.pyplot as plt\n",
        "acc = history.history['acc']\n",
        "val_acc = history.history['val_acc']\n",
        "loss = history.history['loss']\n",
        "val_loss = history.history['val_loss']\n",
        "epochs = range(1, len(acc) + 1)\n",
        "plt.plot(epochs, acc, 'bo', label='Training acc')\n",
        "plt.plot(epochs, val_acc, 'b', label='Validation acc')\n",
        "plt.title('Training and validation accuracy')\n",
        "plt.legend()\n",
        "plt.figure()\n",
        "plt.plot(epochs, loss, 'bo', label='Training loss')\n",
        "plt.plot(epochs, val_loss, 'b', label='Validation loss')\n",
        "plt.title('Training and validation loss')\n",
        "plt.legend()\n",
        "plt.show()\n",
        "# validation accuracy ~89\n",
        "# Training accuracy  ~97\n",
        "# Validation Loss ~0.25\n",
        "# Training Loss ~0.09\n",
        "\n"
      ],
      "metadata": {
        "colab": {
          "base_uri": "https://localhost:8080/",
          "height": 545
        },
        "outputId": "5a128552-8cd3-459e-853e-e69bdf0be9fd",
        "id": "nh-CgGHGJitI"
      },
      "execution_count": 21,
      "outputs": [
        {
          "output_type": "display_data",
          "data": {
            "text/plain": [
              "<Figure size 432x288 with 1 Axes>"
            ],
            "image/png": "[encoded data removed]"
          },
          "metadata": {
            "needs_background": "light"
          }
        },
        {
          "output_type": "display_data",
          "data": {
            "text/plain": [
              "<Figure size 432x288 with 1 Axes>"
            ],
            "image/png": "[encoded data removed]"
          },
          "metadata": {
            "needs_background": "light"
          }
        }
      ]
    }
  ]
}