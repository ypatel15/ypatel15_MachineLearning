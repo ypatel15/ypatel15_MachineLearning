{
  "nbformat": 4,
  "nbformat_minor": 0,
  "metadata": {
    "colab": {
      "provenance": []
    },
    "kernelspec": {
      "name": "python3",
      "display_name": "Python 3"
    },
    "language_info": {
      "name": "python"
    },
    "gpuClass": "standard",
    "accelerator": "GPU"
  },
  "cells": [
    {
      "cell_type": "code",
      "execution_count": 1,
      "metadata": {
        "colab": {
          "base_uri": "https://localhost:8080/"
        },
        "id": "D-63C52Qg-mj",
        "outputId": "9d8ed4f2-82d8-4ffb-ee3d-2fcc81c257f4"
      },
      "outputs": [
        {
          "output_type": "stream",
          "name": "stdout",
          "text": [
            "Mounted at /content/drive\n"
          ]
        }
      ],
      "source": [
        "from google.colab import drive\n",
        "drive.mount('/content/drive')"
      ]
    },
    {
      "cell_type": "code",
      "source": [
        "import os, shutil\n",
        "original_dataset_dir = '/content/drive/MyDrive/AML/Kaggle_original_data/train'\n",
        "\n",
        "base_dir = '/content/drive/MyDrive/AML/cats_and_dogs_large'\n",
        "#os.mkdir(base_dir)\n",
        "\n",
        "### Directories for the training, validation, and test splits\n",
        "\n",
        "train_dir = os.path.join(base_dir, 'train')\n",
        "#os.mkdir(train_dir)\n",
        "validation_dir = os.path.join(base_dir, 'validation')\n",
        "#os.mkdir(validation_dir)\n",
        "test_dir = os.path.join(base_dir, 'test')\n",
        "#os.mkdir(test_dir)\n",
        "\n",
        "### Directory with training cat pictures\n",
        "\n",
        "train_cats_dir = os.path.join(train_dir,'cats')\n",
        "#os.mkdir(train_cats_dir)\n",
        "\n",
        "### Directory with training dog pictures\n",
        "\n",
        "train_dogs_dir = os.path.join(train_dir, 'dogs')\n",
        "#os.mkdir(train_dogs_dir)\n",
        "\n",
        "### Directory with val cat pictures\n",
        "\n",
        "validation_cats_dir = os.path.join(validation_dir, 'cats')\n",
        "#os.mkdir(validation_cats_dir)\n",
        "\n",
        "### Directory with val dog pictures\n",
        "\n",
        "validation_dogs_dir = os.path.join(validation_dir, 'dogs')\n",
        "#os.mkdir(validation_dogs_dir)\n",
        "\n",
        "### Directory with test cat pictures\n",
        "\n",
        "test_cats_dir = os.path.join(test_dir, 'cats')\n",
        "#os.mkdir(test_cats_dir)\n",
        "\n",
        "### Directory with val Dog pictures\n",
        "\n",
        "test_dogs_dir = os.path.join(test_dir, 'dogs')\n",
        "#os.mkdir(test_dogs_dir)\n",
        "\n",
        "### Copies the first 2,000 cat images to train_cats_dir\n",
        "\n",
        "fnames = ['cat.{}.jpg'.format(i) for i in range(2000)]\n",
        "for fname in fnames:\n",
        "  src = os.path.join(original_dataset_dir, fname)\n",
        "  dst = os.path.join(train_cats_dir, fname)\n",
        " # shutil.copyfile(src, dst)\n",
        "\n",
        "### Copies the next 500 cat images to validation_cats_dir\n",
        "\n",
        "fnames = ['cat.{}.jpg'.format(i) for i in range(2000, 2500)]\n",
        "for fname in fnames:\n",
        "  src = os.path.join(original_dataset_dir, fname)\n",
        "  dst = os.path.join(validation_cats_dir, fname)\n",
        "  # shutil.copyfile(src, dst)\n",
        "\n",
        "### Copies the next 500 cat images to test_cats_dir\n",
        "\n",
        "fnames = ['cat.{}.jpg'.format(i) for i in range(2500, 3000)]\n",
        "for fname in fnames:\n",
        "  src = os.path.join(original_dataset_dir, fname)\n",
        "  dst = os.path.join(test_cats_dir, fname)\n",
        "  #shutil.copyfile(src, dst)\n",
        "\n",
        "\n",
        "### Copies the first 2,000 dog images to train_dogs_dir\n",
        "\n",
        "fnames = ['dog.{}.jpg'.format(i) for i in range(2000)]\n",
        "for fname in fnames:\n",
        "  src = os.path.join(original_dataset_dir, fname)\n",
        "  dst = os.path.join(train_dogs_dir, fname)\n",
        "  #shutil.copyfile(src, dst)\n",
        "\n",
        "### Copies the nxt 500 dog images to validation_dogs_dir\n",
        "\n",
        "fnames = ['dog.{}.jpg'.format(i) for i in range(2000, 2500)]\n",
        "for fname in fnames:\n",
        "  src = os.path.join(original_dataset_dir, fname)\n",
        "  dst = os.path.join(validation_dogs_dir, fname)\n",
        "  #shutil.copyfile(src, dst)\n",
        "\n",
        "### Copies the nxt 500 dog images to test_dogs_dir\n",
        "\n",
        "fnames = ['dog.{}.jpg'.format(i) for i in range(2500, 3000)]\n",
        "for fname in fnames:\n",
        "  src = os.path.join(original_dataset_dir, fname)\n",
        "  dst = os.path.join(test_dogs_dir, fname)\n",
        "  #shutil.copyfile(src, dst)\n",
        "\n"
      ],
      "metadata": {
        "id": "hz2G4Pz6h2w6"
      },
      "execution_count": 2,
      "outputs": []
    },
    {
      "cell_type": "markdown",
      "source": [
        "let’s count how many pictures are in each training split "
      ],
      "metadata": {
        "id": "fenkGsAXKvYe"
      }
    },
    {
      "cell_type": "code",
      "source": [
        "print('total training cat images:', len(os.listdir(train_cats_dir)))\n",
        "\n",
        "print('total training dog images:', len(os.listdir(train_dogs_dir)))\n",
        "\n",
        "print('total validation cat images:', len(os.listdir(validation_cats_dir)))\n",
        "\n",
        "print('total validation dog images:', len(os.listdir(validation_dogs_dir)))\n",
        "\n",
        "print('total test cat images:', len(os.listdir(test_cats_dir)))\n",
        "\n",
        "print('total test dog images:', len(os.listdir(test_dogs_dir)))\n"
      ],
      "metadata": {
        "colab": {
          "base_uri": "https://localhost:8080/"
        },
        "id": "ppNxPkv_J1Er",
        "outputId": "3ef7e55d-497d-44ef-f46b-67a7003a2f0a"
      },
      "execution_count": 3,
      "outputs": [
        {
          "output_type": "stream",
          "name": "stdout",
          "text": [
            "total training cat images: 2000\n",
            "total training dog images: 2000\n",
            "total validation cat images: 500\n",
            "total validation dog images: 500\n",
            "total test cat images: 500\n",
            "total test dog images: 500\n"
          ]
        }
      ]
    },
    {
      "cell_type": "markdown",
      "source": [
        "\n",
        "Defining a convnet for dogs vs. cats classification which includes dropout"
      ],
      "metadata": {
        "id": "c1MXYANFLS-m"
      }
    },
    {
      "cell_type": "code",
      "source": [
        "from keras import layers\n",
        "from keras import models\n",
        "model = models.Sequential()\n",
        "model.add(layers.Conv2D(32, (3, 3), activation='relu',\n",
        "input_shape=(150, 150, 3)))\n",
        "model.add(layers.MaxPooling2D((2, 2)))\n",
        "model.add(layers.Conv2D(64, (3, 3), activation='relu'))\n",
        "model.add(layers.MaxPooling2D((2, 2)))\n",
        "model.add(layers.Conv2D(128, (3, 3), activation='relu'))\n",
        "model.add(layers.MaxPooling2D((2, 2)))\n",
        "model.add(layers.Conv2D(128, (3, 3), activation='relu'))\n",
        "model.add(layers.MaxPooling2D((2, 2)))\n",
        "model.add(layers.Flatten())\n",
        "model.add(layers.Dropout(0.5))\n",
        "model.add(layers.Dense(512, activation='relu'))\n",
        "model.add(layers.Dense(1, activation='sigmoid'))\n",
        "\n",
        "### Let’s look at how the dimensions of the feature maps change with every \n",
        "## successive layer:\n",
        "\n",
        "model.summary()"
      ],
      "metadata": {
        "colab": {
          "base_uri": "https://localhost:8080/"
        },
        "id": "CX21h3h5K3Ph",
        "outputId": "7a109007-de5f-43de-df00-060e6de8ebfd"
      },
      "execution_count": 4,
      "outputs": [
        {
          "output_type": "stream",
          "name": "stdout",
          "text": [
            "Model: \"sequential\"\n",
            "_________________________________________________________________\n",
            " Layer (type)                Output Shape              Param #   \n",
            "=================================================================\n",
            " conv2d (Conv2D)             (None, 148, 148, 32)      896       \n",
            "                                                                 \n",
            " max_pooling2d (MaxPooling2D  (None, 74, 74, 32)       0         \n",
            " )                                                               \n",
            "                                                                 \n",
            " conv2d_1 (Conv2D)           (None, 72, 72, 64)        18496     \n",
            "                                                                 \n",
            " max_pooling2d_1 (MaxPooling  (None, 36, 36, 64)       0         \n",
            " 2D)                                                             \n",
            "                                                                 \n",
            " conv2d_2 (Conv2D)           (None, 34, 34, 128)       73856     \n",
            "                                                                 \n",
            " max_pooling2d_2 (MaxPooling  (None, 17, 17, 128)      0         \n",
            " 2D)                                                             \n",
            "                                                                 \n",
            " conv2d_3 (Conv2D)           (None, 15, 15, 128)       147584    \n",
            "                                                                 \n",
            " max_pooling2d_3 (MaxPooling  (None, 7, 7, 128)        0         \n",
            " 2D)                                                             \n",
            "                                                                 \n",
            " flatten (Flatten)           (None, 6272)              0         \n",
            "                                                                 \n",
            " dropout (Dropout)           (None, 6272)              0         \n",
            "                                                                 \n",
            " dense (Dense)               (None, 512)               3211776   \n",
            "                                                                 \n",
            " dense_1 (Dense)             (None, 1)                 513       \n",
            "                                                                 \n",
            "=================================================================\n",
            "Total params: 3,453,121\n",
            "Trainable params: 3,453,121\n",
            "Non-trainable params: 0\n",
            "_________________________________________________________________\n"
          ]
        }
      ]
    },
    {
      "cell_type": "markdown",
      "source": [
        "Configuring the model for training"
      ],
      "metadata": {
        "id": "4HTbYLJvL-G1"
      }
    },
    {
      "cell_type": "code",
      "source": [
        "from keras import optimizers\n",
        "model.compile(loss='binary_crossentropy',\n",
        "  optimizer=optimizers.RMSprop(learning_rate = 1e-4),\n",
        "  metrics=['acc'])"
      ],
      "metadata": {
        "id": "GWG6hIp6L9Ha"
      },
      "execution_count": 5,
      "outputs": []
    },
    {
      "cell_type": "markdown",
      "source": [
        "Let’s train the network using data augmentation and dropout."
      ],
      "metadata": {
        "id": "NPYQwuqfW0xp"
      }
    },
    {
      "cell_type": "code",
      "source": [
        "from keras.preprocessing.image import ImageDataGenerator\n",
        "train_datagen = ImageDataGenerator(\n",
        "  rescale=1./255,\n",
        "  rotation_range=40,\n",
        "  width_shift_range=0.2,\n",
        "  height_shift_range=0.2,\n",
        "  shear_range=0.2,\n",
        "  zoom_range=0.2,\n",
        "  horizontal_flip=True,)\n",
        "test_datagen = ImageDataGenerator(rescale=1./255)\n",
        "\n",
        "train_generator = train_datagen.flow_from_directory(\n",
        "  train_dir,\n",
        "  target_size=(150, 150),\n",
        "  batch_size=64,\n",
        "  class_mode='binary')\n",
        "\n",
        "validation_generator = test_datagen.flow_from_directory(\n",
        "  validation_dir,\n",
        "  target_size=(150, 150),\n",
        "  batch_size=32,\n",
        "  class_mode='binary')\n",
        "\n",
        "history = model.fit (\n",
        "train_generator,\n",
        "steps_per_epoch=62,\n",
        "epochs=100,\n",
        "validation_data=validation_generator,\n",
        "validation_steps=31)\n"
      ],
      "metadata": {
        "colab": {
          "base_uri": "https://localhost:8080/"
        },
        "id": "S5jNHDvaXK15",
        "outputId": "60c75b53-51c6-4791-f980-64f1440b2c36"
      },
      "execution_count": 8,
      "outputs": [
        {
          "output_type": "stream",
          "name": "stdout",
          "text": [
            "Found 4000 images belonging to 2 classes.\n",
            "Found 1000 images belonging to 2 classes.\n",
            "Epoch 1/100\n",
            "62/62 [==============================] - 544s 9s/step - loss: 0.6723 - acc: 0.5897 - val_loss: 0.6567 - val_acc: 0.5800\n",
            "Epoch 2/100\n",
            "62/62 [==============================] - 43s 700ms/step - loss: 0.6611 - acc: 0.6059 - val_loss: 0.6282 - val_acc: 0.6350\n",
            "Epoch 3/100\n",
            "62/62 [==============================] - 43s 699ms/step - loss: 0.6496 - acc: 0.6179 - val_loss: 0.6142 - val_acc: 0.6510\n",
            "Epoch 4/100\n",
            "62/62 [==============================] - 43s 693ms/step - loss: 0.6427 - acc: 0.6263 - val_loss: 0.6071 - val_acc: 0.6490\n",
            "Epoch 5/100\n",
            "62/62 [==============================] - 44s 716ms/step - loss: 0.6283 - acc: 0.6423 - val_loss: 0.5998 - val_acc: 0.6540\n",
            "Epoch 6/100\n",
            "62/62 [==============================] - 48s 777ms/step - loss: 0.6225 - acc: 0.6466 - val_loss: 0.5978 - val_acc: 0.6780\n",
            "Epoch 7/100\n",
            "62/62 [==============================] - 44s 712ms/step - loss: 0.6123 - acc: 0.6578 - val_loss: 0.6306 - val_acc: 0.6200\n",
            "Epoch 8/100\n",
            "62/62 [==============================] - 43s 690ms/step - loss: 0.6047 - acc: 0.6611 - val_loss: 0.5587 - val_acc: 0.7030\n",
            "Epoch 9/100\n",
            "62/62 [==============================] - 43s 699ms/step - loss: 0.5971 - acc: 0.6781 - val_loss: 0.5595 - val_acc: 0.6960\n",
            "Epoch 10/100\n",
            "62/62 [==============================] - 49s 780ms/step - loss: 0.5938 - acc: 0.6766 - val_loss: 0.5463 - val_acc: 0.7210\n",
            "Epoch 11/100\n",
            "62/62 [==============================] - 44s 709ms/step - loss: 0.5872 - acc: 0.6801 - val_loss: 0.5552 - val_acc: 0.7080\n",
            "Epoch 12/100\n",
            "62/62 [==============================] - 43s 691ms/step - loss: 0.5828 - acc: 0.6845 - val_loss: 0.5338 - val_acc: 0.7340\n",
            "Epoch 13/100\n",
            "62/62 [==============================] - 44s 705ms/step - loss: 0.5754 - acc: 0.6956 - val_loss: 0.5225 - val_acc: 0.7380\n",
            "Epoch 14/100\n",
            "62/62 [==============================] - 48s 778ms/step - loss: 0.5745 - acc: 0.6921 - val_loss: 0.5375 - val_acc: 0.7170\n",
            "Epoch 15/100\n",
            "62/62 [==============================] - 44s 704ms/step - loss: 0.5681 - acc: 0.7025 - val_loss: 0.5239 - val_acc: 0.7250\n",
            "Epoch 16/100\n",
            "62/62 [==============================] - 43s 699ms/step - loss: 0.5659 - acc: 0.7010 - val_loss: 0.5207 - val_acc: 0.7400\n",
            "Epoch 17/100\n",
            "62/62 [==============================] - 43s 696ms/step - loss: 0.5619 - acc: 0.7030 - val_loss: 0.5460 - val_acc: 0.7100\n",
            "Epoch 18/100\n",
            "62/62 [==============================] - 43s 697ms/step - loss: 0.5631 - acc: 0.7119 - val_loss: 0.4980 - val_acc: 0.7450\n",
            "Epoch 19/100\n",
            "62/62 [==============================] - 44s 701ms/step - loss: 0.5564 - acc: 0.7137 - val_loss: 0.5081 - val_acc: 0.7440\n",
            "Epoch 20/100\n",
            "62/62 [==============================] - 43s 693ms/step - loss: 0.5448 - acc: 0.7226 - val_loss: 0.5099 - val_acc: 0.7380\n",
            "Epoch 21/100\n",
            "62/62 [==============================] - 43s 702ms/step - loss: 0.5428 - acc: 0.7152 - val_loss: 0.4836 - val_acc: 0.7580\n",
            "Epoch 22/100\n",
            "62/62 [==============================] - 43s 691ms/step - loss: 0.5319 - acc: 0.7297 - val_loss: 0.4927 - val_acc: 0.7470\n",
            "Epoch 23/100\n",
            "62/62 [==============================] - 44s 715ms/step - loss: 0.5404 - acc: 0.7226 - val_loss: 0.5201 - val_acc: 0.7190\n",
            "Epoch 24/100\n",
            "62/62 [==============================] - 43s 694ms/step - loss: 0.5329 - acc: 0.7327 - val_loss: 0.5031 - val_acc: 0.7400\n",
            "Epoch 25/100\n",
            "62/62 [==============================] - 43s 692ms/step - loss: 0.5383 - acc: 0.7198 - val_loss: 0.4834 - val_acc: 0.7580\n",
            "Epoch 26/100\n",
            "62/62 [==============================] - 44s 708ms/step - loss: 0.5236 - acc: 0.7350 - val_loss: 0.4815 - val_acc: 0.7570\n",
            "Epoch 27/100\n",
            "62/62 [==============================] - 43s 703ms/step - loss: 0.5251 - acc: 0.7424 - val_loss: 0.4874 - val_acc: 0.7540\n",
            "Epoch 28/100\n",
            "62/62 [==============================] - 49s 788ms/step - loss: 0.5251 - acc: 0.7348 - val_loss: 0.4647 - val_acc: 0.7630\n",
            "Epoch 29/100\n",
            "62/62 [==============================] - 50s 812ms/step - loss: 0.5160 - acc: 0.7363 - val_loss: 0.4610 - val_acc: 0.7670\n",
            "Epoch 30/100\n",
            "62/62 [==============================] - 44s 715ms/step - loss: 0.5164 - acc: 0.7409 - val_loss: 0.4586 - val_acc: 0.7650\n",
            "Epoch 31/100\n",
            "62/62 [==============================] - 49s 792ms/step - loss: 0.5105 - acc: 0.7434 - val_loss: 0.4670 - val_acc: 0.7670\n",
            "Epoch 32/100\n",
            "62/62 [==============================] - 43s 701ms/step - loss: 0.5140 - acc: 0.7363 - val_loss: 0.4640 - val_acc: 0.7690\n",
            "Epoch 33/100\n",
            "62/62 [==============================] - 45s 727ms/step - loss: 0.5156 - acc: 0.7419 - val_loss: 0.4714 - val_acc: 0.7770\n",
            "Epoch 34/100\n",
            "62/62 [==============================] - 44s 704ms/step - loss: 0.5097 - acc: 0.7464 - val_loss: 0.4574 - val_acc: 0.7690\n",
            "Epoch 35/100\n",
            "62/62 [==============================] - 43s 703ms/step - loss: 0.5027 - acc: 0.7472 - val_loss: 0.4486 - val_acc: 0.7730\n",
            "Epoch 36/100\n",
            "62/62 [==============================] - 43s 691ms/step - loss: 0.5056 - acc: 0.7442 - val_loss: 0.4490 - val_acc: 0.7800\n",
            "Epoch 37/100\n",
            "62/62 [==============================] - 43s 698ms/step - loss: 0.5024 - acc: 0.7546 - val_loss: 0.4508 - val_acc: 0.7810\n",
            "Epoch 38/100\n",
            "62/62 [==============================] - 44s 710ms/step - loss: 0.4938 - acc: 0.7510 - val_loss: 0.4538 - val_acc: 0.7720\n",
            "Epoch 39/100\n",
            "62/62 [==============================] - 43s 696ms/step - loss: 0.4971 - acc: 0.7571 - val_loss: 0.4488 - val_acc: 0.7880\n",
            "Epoch 40/100\n",
            "62/62 [==============================] - 43s 703ms/step - loss: 0.5029 - acc: 0.7533 - val_loss: 0.4400 - val_acc: 0.7910\n",
            "Epoch 41/100\n",
            "62/62 [==============================] - 43s 701ms/step - loss: 0.4854 - acc: 0.7599 - val_loss: 0.4340 - val_acc: 0.7900\n",
            "Epoch 42/100\n",
            "62/62 [==============================] - 44s 704ms/step - loss: 0.4957 - acc: 0.7536 - val_loss: 0.4439 - val_acc: 0.7810\n",
            "Epoch 43/100\n",
            "62/62 [==============================] - 44s 706ms/step - loss: 0.4842 - acc: 0.7604 - val_loss: 0.4271 - val_acc: 0.7860\n",
            "Epoch 44/100\n",
            "62/62 [==============================] - 43s 696ms/step - loss: 0.4839 - acc: 0.7594 - val_loss: 0.4840 - val_acc: 0.7510\n",
            "Epoch 45/100\n",
            "62/62 [==============================] - 44s 711ms/step - loss: 0.4877 - acc: 0.7533 - val_loss: 0.4579 - val_acc: 0.7810\n",
            "Epoch 46/100\n",
            "62/62 [==============================] - 44s 705ms/step - loss: 0.4844 - acc: 0.7602 - val_loss: 0.4277 - val_acc: 0.7930\n",
            "Epoch 47/100\n",
            "62/62 [==============================] - 44s 701ms/step - loss: 0.4722 - acc: 0.7774 - val_loss: 0.4743 - val_acc: 0.7760\n",
            "Epoch 48/100\n",
            "62/62 [==============================] - 43s 701ms/step - loss: 0.4785 - acc: 0.7703 - val_loss: 0.4285 - val_acc: 0.8050\n",
            "Epoch 49/100\n",
            "62/62 [==============================] - 43s 703ms/step - loss: 0.4781 - acc: 0.7685 - val_loss: 0.5206 - val_acc: 0.7250\n",
            "Epoch 50/100\n",
            "62/62 [==============================] - 43s 698ms/step - loss: 0.4688 - acc: 0.7645 - val_loss: 0.4304 - val_acc: 0.7940\n",
            "Epoch 51/100\n",
            "62/62 [==============================] - 43s 696ms/step - loss: 0.4746 - acc: 0.7713 - val_loss: 0.4461 - val_acc: 0.7770\n",
            "Epoch 52/100\n",
            "62/62 [==============================] - 44s 703ms/step - loss: 0.4694 - acc: 0.7764 - val_loss: 0.4063 - val_acc: 0.7930\n",
            "Epoch 53/100\n",
            "62/62 [==============================] - 44s 714ms/step - loss: 0.4634 - acc: 0.7779 - val_loss: 0.4189 - val_acc: 0.7910\n",
            "Epoch 54/100\n",
            "62/62 [==============================] - 44s 709ms/step - loss: 0.4650 - acc: 0.7779 - val_loss: 0.4268 - val_acc: 0.8070\n",
            "Epoch 55/100\n",
            "62/62 [==============================] - 44s 715ms/step - loss: 0.4574 - acc: 0.7800 - val_loss: 0.4282 - val_acc: 0.8000\n",
            "Epoch 56/100\n",
            "62/62 [==============================] - 45s 726ms/step - loss: 0.4659 - acc: 0.7807 - val_loss: 0.4313 - val_acc: 0.7970\n",
            "Epoch 57/100\n",
            "62/62 [==============================] - 44s 707ms/step - loss: 0.4659 - acc: 0.7696 - val_loss: 0.4013 - val_acc: 0.7980\n",
            "Epoch 58/100\n",
            "62/62 [==============================] - 44s 704ms/step - loss: 0.4581 - acc: 0.7752 - val_loss: 0.3953 - val_acc: 0.8210\n",
            "Epoch 59/100\n",
            "62/62 [==============================] - 42s 683ms/step - loss: 0.4605 - acc: 0.7820 - val_loss: 0.4252 - val_acc: 0.7920\n",
            "Epoch 60/100\n",
            "62/62 [==============================] - 42s 684ms/step - loss: 0.4570 - acc: 0.7807 - val_loss: 0.3969 - val_acc: 0.8130\n",
            "Epoch 61/100\n",
            "62/62 [==============================] - 44s 708ms/step - loss: 0.4516 - acc: 0.7863 - val_loss: 0.4091 - val_acc: 0.8100\n",
            "Epoch 62/100\n",
            "62/62 [==============================] - 48s 776ms/step - loss: 0.4591 - acc: 0.7792 - val_loss: 0.4707 - val_acc: 0.7680\n",
            "Epoch 63/100\n",
            "62/62 [==============================] - 42s 686ms/step - loss: 0.4557 - acc: 0.7835 - val_loss: 0.3943 - val_acc: 0.8070\n",
            "Epoch 64/100\n",
            "62/62 [==============================] - 42s 685ms/step - loss: 0.4525 - acc: 0.7823 - val_loss: 0.4275 - val_acc: 0.8020\n",
            "Epoch 65/100\n",
            "62/62 [==============================] - 42s 682ms/step - loss: 0.4515 - acc: 0.7807 - val_loss: 0.4007 - val_acc: 0.8230\n",
            "Epoch 66/100\n",
            "62/62 [==============================] - 43s 688ms/step - loss: 0.4411 - acc: 0.7947 - val_loss: 0.4090 - val_acc: 0.8110\n",
            "Epoch 67/100\n",
            "62/62 [==============================] - 43s 695ms/step - loss: 0.4457 - acc: 0.7879 - val_loss: 0.3928 - val_acc: 0.8090\n",
            "Epoch 68/100\n",
            "62/62 [==============================] - 42s 684ms/step - loss: 0.4477 - acc: 0.7825 - val_loss: 0.4063 - val_acc: 0.8140\n",
            "Epoch 69/100\n",
            "62/62 [==============================] - 43s 696ms/step - loss: 0.4383 - acc: 0.7886 - val_loss: 0.4270 - val_acc: 0.7920\n",
            "Epoch 70/100\n",
            "62/62 [==============================] - 43s 687ms/step - loss: 0.4361 - acc: 0.7937 - val_loss: 0.4214 - val_acc: 0.7990\n",
            "Epoch 71/100\n",
            "62/62 [==============================] - 42s 684ms/step - loss: 0.4324 - acc: 0.7965 - val_loss: 0.3812 - val_acc: 0.8290\n",
            "Epoch 72/100\n",
            "62/62 [==============================] - 43s 694ms/step - loss: 0.4337 - acc: 0.7988 - val_loss: 0.4598 - val_acc: 0.7810\n",
            "Epoch 73/100\n",
            "62/62 [==============================] - 43s 692ms/step - loss: 0.4484 - acc: 0.7881 - val_loss: 0.3763 - val_acc: 0.8260\n",
            "Epoch 74/100\n",
            "62/62 [==============================] - 48s 766ms/step - loss: 0.4326 - acc: 0.7985 - val_loss: 0.3856 - val_acc: 0.8080\n",
            "Epoch 75/100\n",
            "62/62 [==============================] - 42s 686ms/step - loss: 0.4244 - acc: 0.7998 - val_loss: 0.3770 - val_acc: 0.8270\n",
            "Epoch 76/100\n",
            "62/62 [==============================] - 42s 684ms/step - loss: 0.4301 - acc: 0.7980 - val_loss: 0.3835 - val_acc: 0.8200\n",
            "Epoch 77/100\n",
            "62/62 [==============================] - 43s 691ms/step - loss: 0.4285 - acc: 0.7929 - val_loss: 0.4534 - val_acc: 0.7860\n",
            "Epoch 78/100\n",
            "62/62 [==============================] - 43s 693ms/step - loss: 0.4158 - acc: 0.8107 - val_loss: 0.3734 - val_acc: 0.8150\n",
            "Epoch 79/100\n",
            "62/62 [==============================] - 42s 684ms/step - loss: 0.4315 - acc: 0.8001 - val_loss: 0.3717 - val_acc: 0.8350\n",
            "Epoch 80/100\n",
            "62/62 [==============================] - 42s 684ms/step - loss: 0.4249 - acc: 0.7965 - val_loss: 0.3921 - val_acc: 0.8190\n",
            "Epoch 81/100\n",
            "62/62 [==============================] - 43s 687ms/step - loss: 0.4119 - acc: 0.8107 - val_loss: 0.3829 - val_acc: 0.8130\n",
            "Epoch 82/100\n",
            "62/62 [==============================] - 43s 690ms/step - loss: 0.4072 - acc: 0.8194 - val_loss: 0.3832 - val_acc: 0.8160\n",
            "Epoch 83/100\n",
            "62/62 [==============================] - 44s 701ms/step - loss: 0.4240 - acc: 0.8036 - val_loss: 0.4005 - val_acc: 0.8110\n",
            "Epoch 84/100\n",
            "62/62 [==============================] - 47s 764ms/step - loss: 0.4170 - acc: 0.8067 - val_loss: 0.3923 - val_acc: 0.8150\n",
            "Epoch 85/100\n",
            "62/62 [==============================] - 43s 691ms/step - loss: 0.4153 - acc: 0.8128 - val_loss: 0.4240 - val_acc: 0.7900\n",
            "Epoch 86/100\n",
            "62/62 [==============================] - 42s 681ms/step - loss: 0.4138 - acc: 0.8135 - val_loss: 0.3973 - val_acc: 0.8120\n",
            "Epoch 87/100\n",
            "62/62 [==============================] - 42s 681ms/step - loss: 0.4069 - acc: 0.8107 - val_loss: 0.3934 - val_acc: 0.8100\n",
            "Epoch 88/100\n",
            "62/62 [==============================] - 44s 707ms/step - loss: 0.4052 - acc: 0.8039 - val_loss: 0.4125 - val_acc: 0.8090\n",
            "Epoch 89/100\n",
            "62/62 [==============================] - 42s 687ms/step - loss: 0.4074 - acc: 0.8145 - val_loss: 0.3827 - val_acc: 0.8200\n",
            "Epoch 90/100\n",
            "62/62 [==============================] - 43s 691ms/step - loss: 0.3993 - acc: 0.8181 - val_loss: 0.4794 - val_acc: 0.7640\n",
            "Epoch 91/100\n",
            "62/62 [==============================] - 43s 690ms/step - loss: 0.4125 - acc: 0.8140 - val_loss: 0.3694 - val_acc: 0.8230\n",
            "Epoch 92/100\n",
            "62/62 [==============================] - 43s 700ms/step - loss: 0.4123 - acc: 0.8122 - val_loss: 0.3732 - val_acc: 0.8300\n",
            "Epoch 93/100\n",
            "62/62 [==============================] - 43s 699ms/step - loss: 0.3936 - acc: 0.8206 - val_loss: 0.3620 - val_acc: 0.8350\n",
            "Epoch 94/100\n",
            "62/62 [==============================] - 43s 694ms/step - loss: 0.4050 - acc: 0.8079 - val_loss: 0.3795 - val_acc: 0.8130\n",
            "Epoch 95/100\n",
            "62/62 [==============================] - 43s 687ms/step - loss: 0.4078 - acc: 0.8102 - val_loss: 0.3460 - val_acc: 0.8340\n",
            "Epoch 96/100\n",
            "62/62 [==============================] - 43s 701ms/step - loss: 0.4020 - acc: 0.8163 - val_loss: 0.3498 - val_acc: 0.8330\n",
            "Epoch 97/100\n",
            "62/62 [==============================] - 57s 921ms/step - loss: 0.3867 - acc: 0.8262 - val_loss: 0.3477 - val_acc: 0.8420\n",
            "Epoch 98/100\n",
            "62/62 [==============================] - 43s 692ms/step - loss: 0.3991 - acc: 0.8214 - val_loss: 0.3462 - val_acc: 0.8440\n",
            "Epoch 99/100\n",
            "62/62 [==============================] - 43s 687ms/step - loss: 0.4015 - acc: 0.8161 - val_loss: 0.3610 - val_acc: 0.8270\n",
            "Epoch 100/100\n",
            "62/62 [==============================] - 43s 684ms/step - loss: 0.3857 - acc: 0.8229 - val_loss: 0.4369 - val_acc: 0.7910\n"
          ]
        }
      ]
    },
    {
      "cell_type": "code",
      "source": [
        "model.save('cats_and_dogs_small_02.h5')"
      ],
      "metadata": {
        "id": "-d5yPIoX11Sb"
      },
      "execution_count": 9,
      "outputs": []
    },
    {
      "cell_type": "markdown",
      "source": [
        "Plotting "
      ],
      "metadata": {
        "id": "BYgQtMgOcVK1"
      }
    },
    {
      "cell_type": "code",
      "source": [
        "import matplotlib.pyplot as plt\n",
        "acc = history.history['acc']\n",
        "val_acc = history.history['val_acc']\n",
        "loss = history.history['loss']\n",
        "val_loss = history.history['val_loss']\n",
        "epochs = range(1, len(acc) + 1)\n",
        "plt.plot(epochs, acc, 'bo', label='Training acc')\n",
        "plt.plot(epochs, val_acc, 'b', label='Validation acc')\n",
        "plt.title('Training and validation accuracy')\n",
        "plt.legend()\n",
        "plt.figure()\n",
        "plt.plot(epochs, loss, 'bo', label='Training loss')\n",
        "plt.plot(epochs, val_loss, 'b', label='Validation loss')\n",
        "plt.title('Training and validation loss')\n",
        "plt.legend()\n",
        "plt.show()"
      ],
      "metadata": {
        "colab": {
          "base_uri": "https://localhost:8080/",
          "height": 545
        },
        "id": "rAGO9_0xkk7e",
        "outputId": "0c84c24b-a6f2-4ffb-a434-e74200f9a891"
      },
      "execution_count": 10,
      "outputs": [
        {
          "output_type": "display_data",
          "data": {
            "text/plain": [
              "<Figure size 432x288 with 1 Axes>"
            ],
            "image/png": "[encoded data removed]"
          },
          "metadata": {
            "needs_background": "light"
          }
        },
        {
          "output_type": "display_data",
          "data": {
            "text/plain": [
              "<Figure size 432x288 with 1 Axes>"
            ],
            "image/png": "[encoded data removed]"
          },
          "metadata": {
            "needs_background": "light"
          }
        }
      ]
    }
  ]
}