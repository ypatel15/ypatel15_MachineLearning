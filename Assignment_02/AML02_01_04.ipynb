{
  "nbformat": 4,
  "nbformat_minor": 0,
  "metadata": {
    "colab": {
      "provenance": []
    },
    "kernelspec": {
      "name": "python3",
      "display_name": "Python 3"
    },
    "language_info": {
      "name": "python"
    },
    "gpuClass": "standard",
    "accelerator": "GPU"
  },
  "cells": [
    {
      "cell_type": "code",
      "execution_count": 3,
      "metadata": {
        "colab": {
          "base_uri": "https://localhost:8080/"
        },
        "id": "D-63C52Qg-mj",
        "outputId": "fb87a603-c2db-4730-9d57-9c02f6548250"
      },
      "outputs": [
        {
          "output_type": "stream",
          "name": "stdout",
          "text": [
            "Mounted at /content/drive\n"
          ]
        }
      ],
      "source": [
        "from google.colab import drive\n",
        "drive.mount('/content/drive')"
      ]
    },
    {
      "cell_type": "markdown",
      "source": [
        "###1. Consider the Cats & Dogs example. Start initially with a training sample of 1000, a validation sample of 500, and a test sample of 500 (like in the text). Use any technique to reduce overfitting and improve performance in developing a network that you train from scratch. What performance did you achieve."
      ],
      "metadata": {
        "id": "V9cpw6Oe0K1n"
      }
    },
    {
      "cell_type": "code",
      "source": [
        "import os, shutil\n",
        "original_dataset_dir = '/content/drive/MyDrive/AML/Kaggle_original_data/train'\n",
        "\n",
        "base_dir = '/content/drive/MyDrive/AML/cats_and_dogs_small'\n",
        "#os.mkdir(base_dir)\n",
        "\n",
        "### Directories for the training, validation, and test splits\n",
        "\n",
        "train_dir = os.path.join(base_dir, 'train')\n",
        "#os.mkdir(train_dir)\n",
        "validation_dir = os.path.join(base_dir, 'validation')\n",
        "#os.mkdir(validation_dir)\n",
        "test_dir = os.path.join(base_dir, 'test')\n",
        "#os.mkdir(test_dir)\n",
        "\n",
        "### Directory with training cat pictures\n",
        "\n",
        "train_cats_dir = os.path.join(train_dir,'cats')\n",
        "#os.mkdir(train_cats_dir)\n",
        "\n",
        "### Directory with training dog pictures\n",
        "\n",
        "train_dogs_dir = os.path.join(train_dir, 'dogs')\n",
        "#os.mkdir(train_dogs_dir)\n",
        "\n",
        "### Directory with val cat pictures\n",
        "\n",
        "validation_cats_dir = os.path.join(validation_dir, 'cats')\n",
        "#os.mkdir(validation_cats_dir)\n",
        "\n",
        "### Directory with val dog pictures\n",
        "\n",
        "validation_dogs_dir = os.path.join(validation_dir, 'dogs')\n",
        "#os.mkdir(validation_dogs_dir)\n",
        "\n",
        "### Directory with test cat pictures\n",
        "\n",
        "test_cats_dir = os.path.join(test_dir, 'cats')\n",
        "#os.mkdir(test_cats_dir)\n",
        "\n",
        "### Directory with val Dog pictures\n",
        "\n",
        "test_dogs_dir = os.path.join(test_dir, 'dogs')\n",
        "#os.mkdir(test_dogs_dir)\n",
        "\n",
        "### Copies the first 1,000 cat images to train_cats_dir\n",
        "\n",
        "fnames = ['cat.{}.jpg'.format(i) for i in range(1000)]\n",
        "for fname in fnames:\n",
        "  src = os.path.join(original_dataset_dir, fname)\n",
        "  dst = os.path.join(train_cats_dir, fname)\n",
        "# shutil.copyfile(src, dst)\n",
        "\n",
        "### Copies the next 500 cat images to validation_cats_dir\n",
        "\n",
        "fnames = ['cat.{}.jpg'.format(i) for i in range(1000, 1500)]\n",
        "for fname in fnames:\n",
        "  src = os.path.join(original_dataset_dir, fname)\n",
        "  dst = os.path.join(validation_cats_dir, fname)\n",
        "#  shutil.copyfile(src, dst)\n",
        "\n",
        "### Copies the next 500 cat images to test_cats_dir\n",
        "\n",
        "fnames = ['cat.{}.jpg'.format(i) for i in range(1500, 2000)]\n",
        "for fname in fnames:\n",
        "  src = os.path.join(original_dataset_dir, fname)\n",
        "  dst = os.path.join(test_cats_dir, fname)\n",
        "#  shutil.copyfile(src, dst)\n",
        "\n",
        "\n",
        "### Copies the first 1,000 dog images to train_dogs_dir\n",
        "\n",
        "fnames = ['dog.{}.jpg'.format(i) for i in range(1000)]\n",
        "for fname in fnames:\n",
        "  src = os.path.join(original_dataset_dir, fname)\n",
        "  dst = os.path.join(train_dogs_dir, fname)\n",
        "#  shutil.copyfile(src, dst)\n",
        "\n",
        "### Copies the nxt 500 dog images to validation_dogs_dir\n",
        "\n",
        "fnames = ['dog.{}.jpg'.format(i) for i in range(1000, 1500)]\n",
        "for fname in fnames:\n",
        "  src = os.path.join(original_dataset_dir, fname)\n",
        "  dst = os.path.join(validation_dogs_dir, fname)\n",
        "#  shutil.copyfile(src, dst)\n",
        "\n",
        "### Copies the nxt 500 dog images to test_dogs_dir\n",
        "\n",
        "fnames = ['dog.{}.jpg'.format(i) for i in range(1500, 2000)]\n",
        "for fname in fnames:\n",
        "  src = os.path.join(original_dataset_dir, fname)\n",
        "  dst = os.path.join(test_dogs_dir, fname)\n",
        "#  shutil.copyfile(src, dst)\n",
        "\n"
      ],
      "metadata": {
        "id": "hz2G4Pz6h2w6"
      },
      "execution_count": 4,
      "outputs": []
    },
    {
      "cell_type": "markdown",
      "source": [
        "let’s count how many pictures are in each training split "
      ],
      "metadata": {
        "id": "fenkGsAXKvYe"
      }
    },
    {
      "cell_type": "code",
      "source": [
        "print('total training cat images:', len(os.listdir(train_cats_dir)))\n",
        "\n",
        "print('total training dog images:', len(os.listdir(train_dogs_dir)))\n",
        "\n",
        "print('total validation cat images:', len(os.listdir(validation_cats_dir)))\n",
        "\n",
        "print('total validation dog images:', len(os.listdir(validation_dogs_dir)))\n",
        "\n",
        "print('total test cat images:', len(os.listdir(test_cats_dir)))\n",
        "\n",
        "print('total test dog images:', len(os.listdir(test_dogs_dir)))\n"
      ],
      "metadata": {
        "colab": {
          "base_uri": "https://localhost:8080/"
        },
        "id": "ppNxPkv_J1Er",
        "outputId": "131d7ee2-1d80-471a-a088-23ffae447078"
      },
      "execution_count": null,
      "outputs": [
        {
          "output_type": "stream",
          "name": "stdout",
          "text": [
            "total training cat images: 1000\n",
            "total training dog images: 1000\n",
            "total validation cat images: 500\n",
            "total validation dog images: 500\n",
            "total test cat images: 500\n",
            "total test dog images: 500\n"
          ]
        }
      ]
    },
    {
      "cell_type": "markdown",
      "source": [
        "\n",
        "Defining a convnet for dogs vs. cats classification which includes dropout"
      ],
      "metadata": {
        "id": "c1MXYANFLS-m"
      }
    },
    {
      "cell_type": "code",
      "source": [
        "from keras import layers\n",
        "from keras import models\n",
        "model = models.Sequential()\n",
        "model.add(layers.Conv2D(32, (3, 3), activation='relu',\n",
        "input_shape=(150, 150, 3)))\n",
        "model.add(layers.MaxPooling2D((2, 2)))\n",
        "model.add(layers.Conv2D(64, (3, 3), activation='relu'))\n",
        "model.add(layers.MaxPooling2D((2, 2)))\n",
        "model.add(layers.Conv2D(128, (3, 3), activation='relu'))\n",
        "model.add(layers.MaxPooling2D((2, 2)))\n",
        "model.add(layers.Conv2D(128, (3, 3), activation='relu'))\n",
        "model.add(layers.MaxPooling2D((2, 2)))\n",
        "model.add(layers.Flatten())\n",
        "model.add(layers.Dropout(0.5))\n",
        "model.add(layers.Dense(512, activation='relu'))\n",
        "model.add(layers.Dense(1, activation='sigmoid'))\n",
        "\n",
        "### Let’s look at how the dimensions of the feature maps change with every \n",
        "## successive layer:\n",
        "\n",
        "model.summary()"
      ],
      "metadata": {
        "colab": {
          "base_uri": "https://localhost:8080/"
        },
        "id": "CX21h3h5K3Ph",
        "outputId": "5c3dd352-b110-497f-a477-f021b6474ace"
      },
      "execution_count": null,
      "outputs": [
        {
          "output_type": "stream",
          "name": "stdout",
          "text": [
            "Model: \"sequential\"\n",
            "_________________________________________________________________\n",
            " Layer (type)                Output Shape              Param #   \n",
            "=================================================================\n",
            " conv2d (Conv2D)             (None, 148, 148, 32)      896       \n",
            "                                                                 \n",
            " max_pooling2d (MaxPooling2D  (None, 74, 74, 32)       0         \n",
            " )                                                               \n",
            "                                                                 \n",
            " conv2d_1 (Conv2D)           (None, 72, 72, 64)        18496     \n",
            "                                                                 \n",
            " max_pooling2d_1 (MaxPooling  (None, 36, 36, 64)       0         \n",
            " 2D)                                                             \n",
            "                                                                 \n",
            " conv2d_2 (Conv2D)           (None, 34, 34, 128)       73856     \n",
            "                                                                 \n",
            " max_pooling2d_2 (MaxPooling  (None, 17, 17, 128)      0         \n",
            " 2D)                                                             \n",
            "                                                                 \n",
            " conv2d_3 (Conv2D)           (None, 15, 15, 128)       147584    \n",
            "                                                                 \n",
            " max_pooling2d_3 (MaxPooling  (None, 7, 7, 128)        0         \n",
            " 2D)                                                             \n",
            "                                                                 \n",
            " flatten (Flatten)           (None, 6272)              0         \n",
            "                                                                 \n",
            " dropout (Dropout)           (None, 6272)              0         \n",
            "                                                                 \n",
            " dense (Dense)               (None, 512)               3211776   \n",
            "                                                                 \n",
            " dense_1 (Dense)             (None, 1)                 513       \n",
            "                                                                 \n",
            "=================================================================\n",
            "Total params: 3,453,121\n",
            "Trainable params: 3,453,121\n",
            "Non-trainable params: 0\n",
            "_________________________________________________________________\n"
          ]
        }
      ]
    },
    {
      "cell_type": "markdown",
      "source": [
        "Configuring the model for training"
      ],
      "metadata": {
        "id": "4HTbYLJvL-G1"
      }
    },
    {
      "cell_type": "code",
      "source": [
        "from keras import optimizers\n",
        "model.compile(loss='binary_crossentropy',\n",
        "  optimizer=optimizers.RMSprop(learning_rate = 1e-4),\n",
        "  metrics=['acc'])"
      ],
      "metadata": {
        "id": "GWG6hIp6L9Ha"
      },
      "execution_count": null,
      "outputs": []
    },
    {
      "cell_type": "markdown",
      "source": [
        "#### Let’s train the network using data augmentation and dropout."
      ],
      "metadata": {
        "id": "NPYQwuqfW0xp"
      }
    },
    {
      "cell_type": "code",
      "source": [
        "from keras.preprocessing.image import ImageDataGenerator\n",
        "train_datagen = ImageDataGenerator(\n",
        "  rescale=1./255,\n",
        "  rotation_range=40,\n",
        "  width_shift_range=0.2,\n",
        "  height_shift_range=0.2,\n",
        "  shear_range=0.2,\n",
        "  zoom_range=0.2,\n",
        "  horizontal_flip=True,)\n",
        "test_datagen = ImageDataGenerator(rescale=1./255)\n",
        "\n",
        "train_generator = train_datagen.flow_from_directory(\n",
        "  train_dir,\n",
        "  target_size=(150, 150),\n",
        "  batch_size=32,\n",
        "  class_mode='binary')\n",
        "\n",
        "validation_generator = test_datagen.flow_from_directory(\n",
        "  validation_dir,\n",
        "  target_size=(150, 150),\n",
        "  batch_size=32,\n",
        "  class_mode='binary')\n",
        "\n",
        "history = model.fit (\n",
        "train_generator,\n",
        "steps_per_epoch=62,\n",
        "epochs=100,\n",
        "validation_data=validation_generator,\n",
        "validation_steps=31)\n"
      ],
      "metadata": {
        "colab": {
          "base_uri": "https://localhost:8080/"
        },
        "id": "S5jNHDvaXK15",
        "outputId": "a9ce0f28-2aa5-4662-94d3-424d8050267b"
      },
      "execution_count": null,
      "outputs": [
        {
          "output_type": "stream",
          "name": "stdout",
          "text": [
            "Found 2000 images belonging to 2 classes.\n",
            "Found 1000 images belonging to 2 classes.\n",
            "Epoch 1/100\n",
            "62/62 [==============================] - 275s 4s/step - loss: 0.6893 - acc: 0.5224 - val_loss: 0.6775 - val_acc: 0.5410\n",
            "Epoch 2/100\n",
            "62/62 [==============================] - 23s 364ms/step - loss: 0.6781 - acc: 0.5655 - val_loss: 0.6592 - val_acc: 0.6160\n",
            "Epoch 3/100\n",
            "62/62 [==============================] - 23s 372ms/step - loss: 0.6676 - acc: 0.5838 - val_loss: 0.6669 - val_acc: 0.5530\n",
            "Epoch 4/100\n",
            "62/62 [==============================] - 23s 364ms/step - loss: 0.6573 - acc: 0.5879 - val_loss: 0.6270 - val_acc: 0.6470\n",
            "Epoch 5/100\n",
            "62/62 [==============================] - 22s 360ms/step - loss: 0.6428 - acc: 0.6209 - val_loss: 0.6109 - val_acc: 0.6730\n",
            "Epoch 6/100\n",
            "62/62 [==============================] - 23s 372ms/step - loss: 0.6400 - acc: 0.6321 - val_loss: 0.6004 - val_acc: 0.6680\n",
            "Epoch 7/100\n",
            "62/62 [==============================] - 23s 363ms/step - loss: 0.6270 - acc: 0.6479 - val_loss: 0.6241 - val_acc: 0.6450\n",
            "Epoch 8/100\n",
            "62/62 [==============================] - 23s 374ms/step - loss: 0.6137 - acc: 0.6611 - val_loss: 0.5775 - val_acc: 0.6840\n",
            "Epoch 9/100\n",
            "62/62 [==============================] - 23s 370ms/step - loss: 0.6099 - acc: 0.6631 - val_loss: 0.6048 - val_acc: 0.6470\n",
            "Epoch 10/100\n",
            "62/62 [==============================] - 24s 383ms/step - loss: 0.5989 - acc: 0.6641 - val_loss: 0.5921 - val_acc: 0.6580\n",
            "Epoch 11/100\n",
            "62/62 [==============================] - 24s 382ms/step - loss: 0.5844 - acc: 0.6839 - val_loss: 0.5505 - val_acc: 0.7070\n",
            "Epoch 12/100\n",
            "62/62 [==============================] - 23s 362ms/step - loss: 0.5824 - acc: 0.6961 - val_loss: 0.6096 - val_acc: 0.6510\n",
            "Epoch 13/100\n",
            "62/62 [==============================] - 23s 365ms/step - loss: 0.5878 - acc: 0.6819 - val_loss: 0.5921 - val_acc: 0.6600\n",
            "Epoch 14/100\n",
            "62/62 [==============================] - 23s 371ms/step - loss: 0.5733 - acc: 0.7043 - val_loss: 0.5593 - val_acc: 0.7030\n",
            "Epoch 15/100\n",
            "62/62 [==============================] - 24s 384ms/step - loss: 0.5751 - acc: 0.7002 - val_loss: 0.5429 - val_acc: 0.7220\n",
            "Epoch 16/100\n",
            "62/62 [==============================] - 23s 376ms/step - loss: 0.5737 - acc: 0.6977 - val_loss: 0.5293 - val_acc: 0.7300\n",
            "Epoch 17/100\n",
            "62/62 [==============================] - 22s 360ms/step - loss: 0.5644 - acc: 0.7073 - val_loss: 0.5462 - val_acc: 0.7130\n",
            "Epoch 18/100\n",
            "62/62 [==============================] - 23s 375ms/step - loss: 0.5571 - acc: 0.7068 - val_loss: 0.5374 - val_acc: 0.7220\n",
            "Epoch 19/100\n",
            "62/62 [==============================] - 23s 376ms/step - loss: 0.5538 - acc: 0.7083 - val_loss: 0.5632 - val_acc: 0.6960\n",
            "Epoch 20/100\n",
            "62/62 [==============================] - 23s 365ms/step - loss: 0.5662 - acc: 0.7119 - val_loss: 0.5292 - val_acc: 0.7290\n",
            "Epoch 21/100\n",
            "62/62 [==============================] - 23s 380ms/step - loss: 0.5602 - acc: 0.7012 - val_loss: 0.5500 - val_acc: 0.7150\n",
            "Epoch 22/100\n",
            "62/62 [==============================] - 23s 374ms/step - loss: 0.5386 - acc: 0.7271 - val_loss: 0.5536 - val_acc: 0.7100\n",
            "Epoch 23/100\n",
            "62/62 [==============================] - 22s 356ms/step - loss: 0.5360 - acc: 0.7307 - val_loss: 0.5503 - val_acc: 0.7130\n",
            "Epoch 24/100\n",
            "62/62 [==============================] - 23s 372ms/step - loss: 0.5558 - acc: 0.7175 - val_loss: 0.5562 - val_acc: 0.6980\n",
            "Epoch 25/100\n",
            "62/62 [==============================] - 23s 370ms/step - loss: 0.5413 - acc: 0.7215 - val_loss: 0.5026 - val_acc: 0.7570\n",
            "Epoch 26/100\n",
            "62/62 [==============================] - 22s 360ms/step - loss: 0.5337 - acc: 0.7317 - val_loss: 0.5070 - val_acc: 0.7390\n",
            "Epoch 27/100\n",
            "62/62 [==============================] - 23s 379ms/step - loss: 0.5434 - acc: 0.7180 - val_loss: 0.4985 - val_acc: 0.7570\n",
            "Epoch 28/100\n",
            "62/62 [==============================] - 23s 374ms/step - loss: 0.5285 - acc: 0.7388 - val_loss: 0.5172 - val_acc: 0.7390\n",
            "Epoch 29/100\n",
            "62/62 [==============================] - 23s 375ms/step - loss: 0.5190 - acc: 0.7388 - val_loss: 0.4981 - val_acc: 0.7450\n",
            "Epoch 30/100\n",
            "62/62 [==============================] - 23s 373ms/step - loss: 0.5249 - acc: 0.7378 - val_loss: 0.5193 - val_acc: 0.7340\n",
            "Epoch 31/100\n",
            "62/62 [==============================] - 23s 378ms/step - loss: 0.5207 - acc: 0.7439 - val_loss: 0.5183 - val_acc: 0.7350\n",
            "Epoch 32/100\n",
            "62/62 [==============================] - 23s 374ms/step - loss: 0.5203 - acc: 0.7414 - val_loss: 0.4843 - val_acc: 0.7670\n",
            "Epoch 33/100\n",
            "62/62 [==============================] - 23s 374ms/step - loss: 0.5273 - acc: 0.7358 - val_loss: 0.5073 - val_acc: 0.7410\n",
            "Epoch 34/100\n",
            "62/62 [==============================] - 24s 386ms/step - loss: 0.5219 - acc: 0.7383 - val_loss: 0.5766 - val_acc: 0.6930\n",
            "Epoch 35/100\n",
            "62/62 [==============================] - 23s 371ms/step - loss: 0.5178 - acc: 0.7363 - val_loss: 0.5607 - val_acc: 0.7060\n",
            "Epoch 36/100\n",
            "62/62 [==============================] - 22s 353ms/step - loss: 0.5092 - acc: 0.7454 - val_loss: 0.5438 - val_acc: 0.7230\n",
            "Epoch 37/100\n",
            "62/62 [==============================] - 23s 380ms/step - loss: 0.5119 - acc: 0.7500 - val_loss: 0.4793 - val_acc: 0.7560\n",
            "Epoch 38/100\n",
            "62/62 [==============================] - 23s 375ms/step - loss: 0.5018 - acc: 0.7480 - val_loss: 0.4661 - val_acc: 0.7760\n",
            "Epoch 39/100\n",
            "62/62 [==============================] - 23s 377ms/step - loss: 0.5029 - acc: 0.7581 - val_loss: 0.4688 - val_acc: 0.7740\n",
            "Epoch 40/100\n",
            "62/62 [==============================] - 24s 382ms/step - loss: 0.5054 - acc: 0.7500 - val_loss: 0.4641 - val_acc: 0.7750\n",
            "Epoch 41/100\n",
            "62/62 [==============================] - 23s 380ms/step - loss: 0.4845 - acc: 0.7617 - val_loss: 0.5687 - val_acc: 0.7130\n",
            "Epoch 42/100\n",
            "62/62 [==============================] - 23s 379ms/step - loss: 0.4940 - acc: 0.7515 - val_loss: 0.5084 - val_acc: 0.7530\n",
            "Epoch 43/100\n",
            "62/62 [==============================] - 22s 354ms/step - loss: 0.4961 - acc: 0.7530 - val_loss: 0.5085 - val_acc: 0.7340\n",
            "Epoch 44/100\n",
            "62/62 [==============================] - 28s 461ms/step - loss: 0.4822 - acc: 0.7708 - val_loss: 0.4694 - val_acc: 0.7820\n",
            "Epoch 45/100\n",
            "62/62 [==============================] - 23s 371ms/step - loss: 0.4854 - acc: 0.7576 - val_loss: 0.4900 - val_acc: 0.7620\n",
            "Epoch 46/100\n",
            "62/62 [==============================] - 22s 354ms/step - loss: 0.5013 - acc: 0.7393 - val_loss: 0.4834 - val_acc: 0.7670\n",
            "Epoch 47/100\n",
            "62/62 [==============================] - 23s 374ms/step - loss: 0.4708 - acc: 0.7779 - val_loss: 0.4827 - val_acc: 0.7630\n",
            "Epoch 48/100\n",
            "62/62 [==============================] - 23s 369ms/step - loss: 0.4760 - acc: 0.7698 - val_loss: 0.4686 - val_acc: 0.7760\n",
            "Epoch 49/100\n",
            "62/62 [==============================] - 23s 375ms/step - loss: 0.4689 - acc: 0.7769 - val_loss: 0.5054 - val_acc: 0.7570\n",
            "Epoch 50/100\n",
            "62/62 [==============================] - 23s 377ms/step - loss: 0.4633 - acc: 0.7779 - val_loss: 0.4771 - val_acc: 0.7690\n",
            "Epoch 51/100\n",
            "62/62 [==============================] - 23s 379ms/step - loss: 0.4779 - acc: 0.7627 - val_loss: 0.4922 - val_acc: 0.7530\n",
            "Epoch 52/100\n",
            "62/62 [==============================] - 23s 380ms/step - loss: 0.4698 - acc: 0.7840 - val_loss: 0.4630 - val_acc: 0.7860\n",
            "Epoch 53/100\n",
            "62/62 [==============================] - 23s 375ms/step - loss: 0.4648 - acc: 0.7749 - val_loss: 0.4687 - val_acc: 0.7720\n",
            "Epoch 54/100\n",
            "62/62 [==============================] - 23s 370ms/step - loss: 0.4796 - acc: 0.7734 - val_loss: 0.4683 - val_acc: 0.7710\n",
            "Epoch 55/100\n",
            "62/62 [==============================] - 22s 358ms/step - loss: 0.4690 - acc: 0.7678 - val_loss: 0.4433 - val_acc: 0.7990\n",
            "Epoch 56/100\n",
            "62/62 [==============================] - 23s 375ms/step - loss: 0.4698 - acc: 0.7647 - val_loss: 0.4768 - val_acc: 0.7700\n",
            "Epoch 57/100\n",
            "62/62 [==============================] - 23s 372ms/step - loss: 0.4644 - acc: 0.7724 - val_loss: 0.4603 - val_acc: 0.7880\n",
            "Epoch 58/100\n",
            "62/62 [==============================] - 22s 354ms/step - loss: 0.4585 - acc: 0.7754 - val_loss: 0.4742 - val_acc: 0.7630\n",
            "Epoch 59/100\n",
            "62/62 [==============================] - 23s 377ms/step - loss: 0.4601 - acc: 0.7734 - val_loss: 0.4502 - val_acc: 0.7850\n",
            "Epoch 60/100\n",
            "62/62 [==============================] - 23s 371ms/step - loss: 0.4504 - acc: 0.7901 - val_loss: 0.4647 - val_acc: 0.7810\n",
            "Epoch 61/100\n",
            "62/62 [==============================] - 23s 375ms/step - loss: 0.4686 - acc: 0.7779 - val_loss: 0.4773 - val_acc: 0.7720\n",
            "Epoch 62/100\n",
            "62/62 [==============================] - 24s 395ms/step - loss: 0.4546 - acc: 0.7881 - val_loss: 0.5037 - val_acc: 0.7510\n",
            "Epoch 63/100\n",
            "62/62 [==============================] - 23s 377ms/step - loss: 0.4463 - acc: 0.7891 - val_loss: 0.4832 - val_acc: 0.7660\n",
            "Epoch 64/100\n",
            "62/62 [==============================] - 23s 372ms/step - loss: 0.4466 - acc: 0.7962 - val_loss: 0.4428 - val_acc: 0.7860\n",
            "Epoch 65/100\n",
            "62/62 [==============================] - 22s 361ms/step - loss: 0.4529 - acc: 0.7800 - val_loss: 0.4364 - val_acc: 0.7970\n",
            "Epoch 66/100\n",
            "62/62 [==============================] - 23s 370ms/step - loss: 0.4523 - acc: 0.7937 - val_loss: 0.4773 - val_acc: 0.7740\n",
            "Epoch 67/100\n",
            "62/62 [==============================] - 23s 377ms/step - loss: 0.4494 - acc: 0.7790 - val_loss: 0.4410 - val_acc: 0.7960\n",
            "Epoch 68/100\n",
            "62/62 [==============================] - 23s 374ms/step - loss: 0.4378 - acc: 0.7917 - val_loss: 0.4476 - val_acc: 0.7990\n",
            "Epoch 69/100\n",
            "62/62 [==============================] - 23s 365ms/step - loss: 0.4445 - acc: 0.7891 - val_loss: 0.4746 - val_acc: 0.7730\n",
            "Epoch 70/100\n",
            "62/62 [==============================] - 23s 379ms/step - loss: 0.4370 - acc: 0.7993 - val_loss: 0.4861 - val_acc: 0.7820\n",
            "Epoch 71/100\n",
            "62/62 [==============================] - 23s 374ms/step - loss: 0.4493 - acc: 0.7835 - val_loss: 0.5133 - val_acc: 0.7550\n",
            "Epoch 72/100\n",
            "62/62 [==============================] - 23s 368ms/step - loss: 0.4449 - acc: 0.7962 - val_loss: 0.4289 - val_acc: 0.7880\n",
            "Epoch 73/100\n",
            "62/62 [==============================] - 23s 372ms/step - loss: 0.4427 - acc: 0.7932 - val_loss: 0.4352 - val_acc: 0.7960\n",
            "Epoch 74/100\n",
            "62/62 [==============================] - 22s 356ms/step - loss: 0.4268 - acc: 0.7957 - val_loss: 0.4684 - val_acc: 0.7710\n",
            "Epoch 75/100\n",
            "62/62 [==============================] - 23s 375ms/step - loss: 0.4345 - acc: 0.7901 - val_loss: 0.5154 - val_acc: 0.7650\n",
            "Epoch 76/100\n",
            "62/62 [==============================] - 23s 369ms/step - loss: 0.4210 - acc: 0.8028 - val_loss: 0.4600 - val_acc: 0.7800\n",
            "Epoch 77/100\n",
            "62/62 [==============================] - 23s 376ms/step - loss: 0.4174 - acc: 0.8084 - val_loss: 0.4617 - val_acc: 0.7790\n",
            "Epoch 78/100\n",
            "62/62 [==============================] - 23s 375ms/step - loss: 0.4362 - acc: 0.7952 - val_loss: 0.4583 - val_acc: 0.7670\n",
            "Epoch 79/100\n",
            "62/62 [==============================] - 23s 368ms/step - loss: 0.4262 - acc: 0.8008 - val_loss: 0.4644 - val_acc: 0.7810\n",
            "Epoch 80/100\n",
            "62/62 [==============================] - 22s 354ms/step - loss: 0.4467 - acc: 0.7988 - val_loss: 0.4813 - val_acc: 0.7880\n",
            "Epoch 81/100\n",
            "62/62 [==============================] - 23s 372ms/step - loss: 0.4129 - acc: 0.8084 - val_loss: 0.4553 - val_acc: 0.7880\n",
            "Epoch 82/100\n",
            "62/62 [==============================] - 22s 355ms/step - loss: 0.4252 - acc: 0.8003 - val_loss: 0.4562 - val_acc: 0.7970\n",
            "Epoch 83/100\n",
            "62/62 [==============================] - 23s 373ms/step - loss: 0.4241 - acc: 0.7973 - val_loss: 0.4298 - val_acc: 0.8040\n",
            "Epoch 84/100\n",
            "62/62 [==============================] - 23s 371ms/step - loss: 0.4132 - acc: 0.8100 - val_loss: 0.4879 - val_acc: 0.7680\n",
            "Epoch 85/100\n",
            "62/62 [==============================] - 23s 373ms/step - loss: 0.4258 - acc: 0.8054 - val_loss: 0.4305 - val_acc: 0.8020\n",
            "Epoch 86/100\n",
            "62/62 [==============================] - 23s 371ms/step - loss: 0.4216 - acc: 0.7962 - val_loss: 0.4200 - val_acc: 0.8060\n",
            "Epoch 87/100\n",
            "62/62 [==============================] - 23s 374ms/step - loss: 0.4097 - acc: 0.8176 - val_loss: 0.4325 - val_acc: 0.8010\n",
            "Epoch 88/100\n",
            "62/62 [==============================] - 23s 365ms/step - loss: 0.4145 - acc: 0.8110 - val_loss: 0.4412 - val_acc: 0.8010\n",
            "Epoch 89/100\n",
            "62/62 [==============================] - 23s 376ms/step - loss: 0.4187 - acc: 0.8028 - val_loss: 0.4310 - val_acc: 0.8020\n",
            "Epoch 90/100\n",
            "62/62 [==============================] - 22s 362ms/step - loss: 0.3944 - acc: 0.8211 - val_loss: 0.4293 - val_acc: 0.7980\n",
            "Epoch 91/100\n",
            "62/62 [==============================] - 24s 384ms/step - loss: 0.4012 - acc: 0.8186 - val_loss: 0.4329 - val_acc: 0.8090\n",
            "Epoch 92/100\n",
            "62/62 [==============================] - 23s 373ms/step - loss: 0.4225 - acc: 0.8034 - val_loss: 0.4107 - val_acc: 0.8090\n",
            "Epoch 93/100\n",
            "62/62 [==============================] - 22s 358ms/step - loss: 0.4006 - acc: 0.8222 - val_loss: 0.4117 - val_acc: 0.8050\n",
            "Epoch 94/100\n",
            "62/62 [==============================] - 23s 379ms/step - loss: 0.4009 - acc: 0.8196 - val_loss: 0.4897 - val_acc: 0.7690\n",
            "Epoch 95/100\n",
            "62/62 [==============================] - 23s 372ms/step - loss: 0.3929 - acc: 0.8267 - val_loss: 0.4418 - val_acc: 0.8040\n",
            "Epoch 96/100\n",
            "62/62 [==============================] - 23s 379ms/step - loss: 0.4206 - acc: 0.8028 - val_loss: 0.4249 - val_acc: 0.8020\n",
            "Epoch 97/100\n",
            "62/62 [==============================] - 23s 376ms/step - loss: 0.4101 - acc: 0.8171 - val_loss: 0.4258 - val_acc: 0.8060\n",
            "Epoch 98/100\n",
            "62/62 [==============================] - 23s 379ms/step - loss: 0.3994 - acc: 0.8150 - val_loss: 0.3992 - val_acc: 0.8090\n",
            "Epoch 99/100\n",
            "62/62 [==============================] - 23s 377ms/step - loss: 0.3961 - acc: 0.8171 - val_loss: 0.4582 - val_acc: 0.7930\n",
            "Epoch 100/100\n",
            "62/62 [==============================] - 23s 374ms/step - loss: 0.4028 - acc: 0.8222 - val_loss: 0.4205 - val_acc: 0.7970\n"
          ]
        }
      ]
    },
    {
      "cell_type": "code",
      "source": [
        "model.save('cats_and_dogs_small_01.h5')"
      ],
      "metadata": {
        "id": "-d5yPIoX11Sb"
      },
      "execution_count": null,
      "outputs": []
    },
    {
      "cell_type": "markdown",
      "source": [
        "#### Plotting the Result"
      ],
      "metadata": {
        "id": "oDlb7DbqZJJQ"
      }
    },
    {
      "cell_type": "code",
      "source": [
        "import matplotlib.pyplot as plt\n",
        "acc = history.history['acc']\n",
        "val_acc = history.history['val_acc']\n",
        "loss = history.history['loss']\n",
        "val_loss = history.history['val_loss']\n",
        "epochs = range(1, len(acc) + 1)\n",
        "plt.plot(epochs, acc, 'bo', label='Training acc')\n",
        "plt.plot(epochs, val_acc, 'b', label='Validation acc')\n",
        "plt.title('Training and validation accuracy')\n",
        "plt.legend()\n",
        "plt.figure()\n",
        "plt.plot(epochs, loss, 'bo', label='Training loss')\n",
        "plt.plot(epochs, val_loss, 'b', label='Validation loss')\n",
        "plt.title('Training and validation loss')\n",
        "plt.legend()\n",
        "plt.show()\n",
        "# Training accuracy ~82\n",
        "# Validation Accuracy ~80\n",
        "# Training Loss ~0.39\n",
        "# Validation Loss ~0.40\n"
      ],
      "metadata": {
        "colab": {
          "base_uri": "https://localhost:8080/",
          "height": 545
        },
        "id": "rAGO9_0xkk7e",
        "outputId": "5a293286-f1fa-48b0-d885-65f70ee092bc"
      },
      "execution_count": null,
      "outputs": [
        {
          "output_type": "display_data",
          "data": {
            "text/plain": [
              "<Figure size 432x288 with 1 Axes>"
            ],
            "image/png": "[encoded data removed]"
          },
          "metadata": {
            "needs_background": "light"
          }
        },
        {
          "output_type": "display_data",
          "data": {
            "text/plain": [
              "<Figure size 432x288 with 1 Axes>"
            ],
            "image/png": "[encoded data removed]"
          },
          "metadata": {
            "needs_background": "light"
          }
        }
      ]
    },
    {
      "cell_type": "markdown",
      "source": [
        "###4. Repeat Steps 1-3, but now using a pretrained network. The sample sizes you use in Steps 2 and 3 for the pretrained network may be the same or different from those using the network where you trained from scratch. Again, use any and all optimization techniques to get best performance"
      ],
      "metadata": {
        "id": "eqhLRxDI0dBw"
      }
    },
    {
      "cell_type": "markdown",
      "source": [
        "####Using pretrained convnet(VGG16)"
      ],
      "metadata": {
        "id": "TAvhAtoppQsR"
      }
    },
    {
      "cell_type": "code",
      "source": [
        "from keras.applications import VGG16\n",
        "conv_base = VGG16(weights='imagenet',\n",
        "include_top=False,\n",
        "input_shape=(150, 150, 3))\n",
        "\n",
        "conv_base.summary()"
      ],
      "metadata": {
        "colab": {
          "base_uri": "https://localhost:8080/"
        },
        "id": "JZiTsVhgpqlf",
        "outputId": "29080277-2b0f-4fae-f59d-b9abb938a824"
      },
      "execution_count": 5,
      "outputs": [
        {
          "output_type": "stream",
          "name": "stdout",
          "text": [
            "Model: \"vgg16\"\n",
            "_________________________________________________________________\n",
            " Layer (type)                Output Shape              Param #   \n",
            "=================================================================\n",
            " input_2 (InputLayer)        [(None, 150, 150, 3)]     0         \n",
            "                                                                 \n",
            " block1_conv1 (Conv2D)       (None, 150, 150, 64)      1792      \n",
            "                                                                 \n",
            " block1_conv2 (Conv2D)       (None, 150, 150, 64)      36928     \n",
            "                                                                 \n",
            " block1_pool (MaxPooling2D)  (None, 75, 75, 64)        0         \n",
            "                                                                 \n",
            " block2_conv1 (Conv2D)       (None, 75, 75, 128)       73856     \n",
            "                                                                 \n",
            " block2_conv2 (Conv2D)       (None, 75, 75, 128)       147584    \n",
            "                                                                 \n",
            " block2_pool (MaxPooling2D)  (None, 37, 37, 128)       0         \n",
            "                                                                 \n",
            " block3_conv1 (Conv2D)       (None, 37, 37, 256)       295168    \n",
            "                                                                 \n",
            " block3_conv2 (Conv2D)       (None, 37, 37, 256)       590080    \n",
            "                                                                 \n",
            " block3_conv3 (Conv2D)       (None, 37, 37, 256)       590080    \n",
            "                                                                 \n",
            " block3_pool (MaxPooling2D)  (None, 18, 18, 256)       0         \n",
            "                                                                 \n",
            " block4_conv1 (Conv2D)       (None, 18, 18, 512)       1180160   \n",
            "                                                                 \n",
            " block4_conv2 (Conv2D)       (None, 18, 18, 512)       2359808   \n",
            "                                                                 \n",
            " block4_conv3 (Conv2D)       (None, 18, 18, 512)       2359808   \n",
            "                                                                 \n",
            " block4_pool (MaxPooling2D)  (None, 9, 9, 512)         0         \n",
            "                                                                 \n",
            " block5_conv1 (Conv2D)       (None, 9, 9, 512)         2359808   \n",
            "                                                                 \n",
            " block5_conv2 (Conv2D)       (None, 9, 9, 512)         2359808   \n",
            "                                                                 \n",
            " block5_conv3 (Conv2D)       (None, 9, 9, 512)         2359808   \n",
            "                                                                 \n",
            " block5_pool (MaxPooling2D)  (None, 4, 4, 512)         0         \n",
            "                                                                 \n",
            "=================================================================\n",
            "Total params: 14,714,688\n",
            "Trainable params: 14,714,688\n",
            "Non-trainable params: 0\n",
            "_________________________________________________________________\n"
          ]
        }
      ]
    },
    {
      "cell_type": "markdown",
      "source": [
        "####Extracting features using the pretrained convolutional base\n"
      ],
      "metadata": {
        "id": "w-HAn1pMp1Bk"
      }
    },
    {
      "cell_type": "code",
      "source": [
        "import os\n",
        "import numpy as np\n",
        "from keras.preprocessing.image import ImageDataGenerator\n",
        "base_dir = '/content/drive/MyDrive/AML/cats_and_dogs_small'\n",
        "train_dir = os.path.join(base_dir, 'train')\n",
        "validation_dir = os.path.join(base_dir, 'validation')\n",
        "test_dir = os.path.join(base_dir, 'test')\n",
        "datagen = ImageDataGenerator(rescale=1./255)\n",
        "batch_size = 20\n",
        "def extract_features(directory, sample_count):\n",
        "    features = np.zeros(shape=(sample_count, 4, 4, 512))\n",
        "    labels = np.zeros(shape=(sample_count))\n",
        "    generator = datagen.flow_from_directory(\n",
        "      directory,\n",
        "      target_size=(150, 150),\n",
        "      batch_size=batch_size,\n",
        "      class_mode='binary')\n",
        "    i=0\n",
        "    for inputs_batch, labels_batch in generator:\n",
        "        features_batch = conv_base.predict(inputs_batch)\n",
        "        features[i * batch_size : (i + 1) * batch_size] = features_batch\n",
        "        labels[i * batch_size : (i + 1) * batch_size] = labels_batch\n",
        "        i += 1\n",
        "        if i * batch_size >= sample_count:\n",
        "            break\n",
        "    return features, labels\n",
        "\n",
        "train_features, train_labels = extract_features(train_dir, 2000)\n",
        "validation_features, validation_labels = extract_features(validation_dir, 1000)\n",
        "test_features, test_labels = extract_features(test_dir, 1000)\n",
        "\n",
        "train_features = np.reshape(train_features, (2000, 4*4* 512))\n",
        "validation_features = np.reshape(validation_features, (1000, 4*4* 512))\n",
        "test_features = np.reshape(test_features, (1000, 4*4* 512))"
      ],
      "metadata": {
        "colab": {
          "base_uri": "https://localhost:8080/"
        },
        "id": "cGq9A7okp0dX",
        "outputId": "add49b0f-48a0-404f-96b3-f45995c01e4c"
      },
      "execution_count": 8,
      "outputs": [
        {
          "output_type": "stream",
          "name": "stdout",
          "text": [
            "Found 2000 images belonging to 2 classes.\n",
            "1/1 [==============================] - 6s 6s/step\n",
            "1/1 [==============================] - 5s 5s/step\n",
            "1/1 [==============================] - 5s 5s/step\n",
            "1/1 [==============================] - 5s 5s/step\n",
            "1/1 [==============================] - 4s 4s/step\n",
            "1/1 [==============================] - 6s 6s/step\n",
            "1/1 [==============================] - 5s 5s/step\n",
            "1/1 [==============================] - 4s 4s/step\n",
            "1/1 [==============================] - 6s 6s/step\n",
            "1/1 [==============================] - 4s 4s/step\n",
            "1/1 [==============================] - 6s 6s/step\n",
            "1/1 [==============================] - 4s 4s/step\n",
            "1/1 [==============================] - 5s 5s/step\n",
            "1/1 [==============================] - 4s 4s/step\n",
            "1/1 [==============================] - 4s 4s/step\n",
            "1/1 [==============================] - 5s 5s/step\n",
            "1/1 [==============================] - 5s 5s/step\n",
            "1/1 [==============================] - 4s 4s/step\n",
            "1/1 [==============================] - 6s 6s/step\n",
            "1/1 [==============================] - 4s 4s/step\n",
            "1/1 [==============================] - 5s 5s/step\n",
            "1/1 [==============================] - 6s 6s/step\n",
            "1/1 [==============================] - 4s 4s/step\n",
            "1/1 [==============================] - 4s 4s/step\n",
            "1/1 [==============================] - 5s 5s/step\n",
            "1/1 [==============================] - 4s 4s/step\n",
            "1/1 [==============================] - 5s 5s/step\n",
            "1/1 [==============================] - 5s 5s/step\n",
            "1/1 [==============================] - 5s 5s/step\n",
            "1/1 [==============================] - 4s 4s/step\n",
            "1/1 [==============================] - 6s 6s/step\n",
            "1/1 [==============================] - 5s 5s/step\n",
            "1/1 [==============================] - 4s 4s/step\n",
            "1/1 [==============================] - 6s 6s/step\n",
            "1/1 [==============================] - 4s 4s/step\n",
            "1/1 [==============================] - 6s 6s/step\n",
            "1/1 [==============================] - 4s 4s/step\n",
            "1/1 [==============================] - 6s 6s/step\n",
            "1/1 [==============================] - 4s 4s/step\n",
            "1/1 [==============================] - 5s 5s/step\n",
            "1/1 [==============================] - 7s 7s/step\n",
            "1/1 [==============================] - 5s 5s/step\n",
            "1/1 [==============================] - 5s 5s/step\n",
            "1/1 [==============================] - 5s 5s/step\n",
            "1/1 [==============================] - 7s 7s/step\n",
            "1/1 [==============================] - 5s 5s/step\n",
            "1/1 [==============================] - 6s 6s/step\n",
            "1/1 [==============================] - 6s 6s/step\n",
            "1/1 [==============================] - 6s 6s/step\n",
            "1/1 [==============================] - 4s 4s/step\n",
            "1/1 [==============================] - 6s 6s/step\n",
            "1/1 [==============================] - 4s 4s/step\n",
            "1/1 [==============================] - 7s 7s/step\n",
            "1/1 [==============================] - 5s 5s/step\n",
            "1/1 [==============================] - 5s 5s/step\n",
            "1/1 [==============================] - 5s 5s/step\n",
            "1/1 [==============================] - 6s 6s/step\n",
            "1/1 [==============================] - 5s 5s/step\n",
            "1/1 [==============================] - 5s 5s/step\n",
            "1/1 [==============================] - 5s 5s/step\n",
            "1/1 [==============================] - 4s 4s/step\n",
            "1/1 [==============================] - 5s 5s/step\n",
            "1/1 [==============================] - 5s 5s/step\n",
            "1/1 [==============================] - 7s 7s/step\n",
            "1/1 [==============================] - 4s 4s/step\n",
            "1/1 [==============================] - 4s 4s/step\n",
            "1/1 [==============================] - 4s 4s/step\n",
            "1/1 [==============================] - 5s 5s/step\n",
            "1/1 [==============================] - 8s 8s/step\n",
            "1/1 [==============================] - 7s 7s/step\n",
            "1/1 [==============================] - 5s 5s/step\n",
            "1/1 [==============================] - 6s 6s/step\n",
            "1/1 [==============================] - 5s 5s/step\n",
            "1/1 [==============================] - 6s 6s/step\n",
            "1/1 [==============================] - 4s 4s/step\n",
            "1/1 [==============================] - 6s 6s/step\n",
            "1/1 [==============================] - 4s 4s/step\n",
            "1/1 [==============================] - 4s 4s/step\n",
            "1/1 [==============================] - 7s 7s/step\n",
            "1/1 [==============================] - 4s 4s/step\n",
            "1/1 [==============================] - 6s 6s/step\n",
            "1/1 [==============================] - 4s 4s/step\n",
            "1/1 [==============================] - 6s 6s/step\n",
            "1/1 [==============================] - 6s 6s/step\n",
            "1/1 [==============================] - 4s 4s/step\n",
            "1/1 [==============================] - 5s 5s/step\n",
            "1/1 [==============================] - 6s 6s/step\n",
            "1/1 [==============================] - 4s 4s/step\n",
            "1/1 [==============================] - 5s 5s/step\n",
            "1/1 [==============================] - 4s 4s/step\n",
            "1/1 [==============================] - 4s 4s/step\n",
            "1/1 [==============================] - 6s 6s/step\n",
            "1/1 [==============================] - 5s 5s/step\n",
            "1/1 [==============================] - 4s 4s/step\n",
            "1/1 [==============================] - 6s 6s/step\n",
            "1/1 [==============================] - 5s 5s/step\n",
            "1/1 [==============================] - 4s 4s/step\n",
            "1/1 [==============================] - 6s 6s/step\n",
            "1/1 [==============================] - 4s 4s/step\n",
            "1/1 [==============================] - 6s 6s/step\n",
            "Found 1000 images belonging to 2 classes.\n",
            "1/1 [==============================] - 5s 5s/step\n",
            "1/1 [==============================] - 5s 5s/step\n",
            "1/1 [==============================] - 4s 4s/step\n",
            "1/1 [==============================] - 5s 5s/step\n",
            "1/1 [==============================] - 4s 4s/step\n",
            "1/1 [==============================] - 6s 6s/step\n",
            "1/1 [==============================] - 4s 4s/step\n",
            "1/1 [==============================] - 6s 6s/step\n",
            "1/1 [==============================] - 4s 4s/step\n",
            "1/1 [==============================] - 6s 6s/step\n",
            "1/1 [==============================] - 5s 5s/step\n",
            "1/1 [==============================] - 4s 4s/step\n",
            "1/1 [==============================] - 5s 5s/step\n",
            "1/1 [==============================] - 4s 4s/step\n",
            "1/1 [==============================] - 6s 6s/step\n",
            "1/1 [==============================] - 4s 4s/step\n",
            "1/1 [==============================] - 5s 5s/step\n",
            "1/1 [==============================] - 4s 4s/step\n",
            "1/1 [==============================] - 6s 6s/step\n",
            "1/1 [==============================] - 4s 4s/step\n",
            "1/1 [==============================] - 6s 6s/step\n",
            "1/1 [==============================] - 4s 4s/step\n",
            "1/1 [==============================] - 6s 6s/step\n",
            "1/1 [==============================] - 6s 6s/step\n",
            "1/1 [==============================] - 4s 4s/step\n",
            "1/1 [==============================] - 6s 6s/step\n",
            "1/1 [==============================] - 4s 4s/step\n",
            "1/1 [==============================] - 6s 6s/step\n",
            "1/1 [==============================] - 5s 5s/step\n",
            "1/1 [==============================] - 4s 4s/step\n",
            "1/1 [==============================] - 4s 4s/step\n",
            "1/1 [==============================] - 4s 4s/step\n",
            "1/1 [==============================] - 6s 6s/step\n",
            "1/1 [==============================] - 4s 4s/step\n",
            "1/1 [==============================] - 6s 6s/step\n",
            "1/1 [==============================] - 4s 4s/step\n",
            "1/1 [==============================] - 5s 5s/step\n",
            "1/1 [==============================] - 6s 6s/step\n",
            "1/1 [==============================] - 4s 4s/step\n",
            "1/1 [==============================] - 5s 5s/step\n",
            "1/1 [==============================] - 4s 4s/step\n",
            "1/1 [==============================] - 5s 5s/step\n",
            "1/1 [==============================] - 5s 5s/step\n",
            "1/1 [==============================] - 4s 4s/step\n",
            "1/1 [==============================] - 6s 6s/step\n",
            "1/1 [==============================] - 4s 4s/step\n",
            "1/1 [==============================] - 5s 5s/step\n",
            "1/1 [==============================] - 4s 4s/step\n",
            "1/1 [==============================] - 4s 4s/step\n",
            "1/1 [==============================] - 5s 5s/step\n",
            "Found 1000 images belonging to 2 classes.\n",
            "1/1 [==============================] - 6s 6s/step\n",
            "1/1 [==============================] - 6s 6s/step\n",
            "1/1 [==============================] - 5s 5s/step\n",
            "1/1 [==============================] - 4s 4s/step\n",
            "1/1 [==============================] - 6s 6s/step\n",
            "1/1 [==============================] - 4s 4s/step\n",
            "1/1 [==============================] - 6s 6s/step\n",
            "1/1 [==============================] - 6s 6s/step\n",
            "1/1 [==============================] - 4s 4s/step\n",
            "1/1 [==============================] - 6s 6s/step\n",
            "1/1 [==============================] - 4s 4s/step\n",
            "1/1 [==============================] - 4s 4s/step\n",
            "1/1 [==============================] - 6s 6s/step\n",
            "1/1 [==============================] - 4s 4s/step\n",
            "1/1 [==============================] - 6s 6s/step\n",
            "1/1 [==============================] - 4s 4s/step\n",
            "1/1 [==============================] - 6s 6s/step\n",
            "1/1 [==============================] - 4s 4s/step\n",
            "1/1 [==============================] - 5s 5s/step\n",
            "1/1 [==============================] - 4s 4s/step\n",
            "1/1 [==============================] - 4s 4s/step\n",
            "1/1 [==============================] - 6s 6s/step\n",
            "1/1 [==============================] - 4s 4s/step\n",
            "1/1 [==============================] - 6s 6s/step\n",
            "1/1 [==============================] - 4s 4s/step\n",
            "1/1 [==============================] - 4s 4s/step\n",
            "1/1 [==============================] - 6s 6s/step\n",
            "1/1 [==============================] - 6s 6s/step\n",
            "1/1 [==============================] - 4s 4s/step\n",
            "1/1 [==============================] - 5s 5s/step\n",
            "1/1 [==============================] - 4s 4s/step\n",
            "1/1 [==============================] - 4s 4s/step\n",
            "1/1 [==============================] - 6s 6s/step\n",
            "1/1 [==============================] - 4s 4s/step\n",
            "1/1 [==============================] - 5s 5s/step\n",
            "1/1 [==============================] - 4s 4s/step\n",
            "1/1 [==============================] - 4s 4s/step\n",
            "1/1 [==============================] - 5s 5s/step\n",
            "1/1 [==============================] - 4s 4s/step\n",
            "1/1 [==============================] - 6s 6s/step\n",
            "1/1 [==============================] - 4s 4s/step\n",
            "1/1 [==============================] - 5s 5s/step\n",
            "1/1 [==============================] - 4s 4s/step\n",
            "1/1 [==============================] - 4s 4s/step\n",
            "1/1 [==============================] - 6s 6s/step\n",
            "1/1 [==============================] - 6s 6s/step\n",
            "1/1 [==============================] - 4s 4s/step\n",
            "1/1 [==============================] - 6s 6s/step\n",
            "1/1 [==============================] - 6s 6s/step\n",
            "1/1 [==============================] - 5s 5s/step\n"
          ]
        }
      ]
    },
    {
      "cell_type": "markdown",
      "source": [
        "#### Defining and training the densely connected classifier"
      ],
      "metadata": {
        "id": "s5hoZSrxp_Lr"
      }
    },
    {
      "cell_type": "code",
      "source": [
        "from keras import models\n",
        "from keras import layers\n",
        "from keras import optimizers\n",
        "model = models.Sequential()\n",
        "model.add(layers.Dense(256, activation='relu', input_dim=4 * 4 * 512))\n",
        "model.add(layers.Dropout(0.5))\n",
        "model.add(layers.Dense(1, activation='sigmoid'))\n",
        "model.compile(optimizer=optimizers.RMSprop(learning_rate=2e-5),\n",
        "loss='binary_crossentropy',\n",
        "metrics=['acc'])\n",
        "history = model.fit(train_features, train_labels,\n",
        "epochs=30,\n",
        "batch_size=20,\n",
        "validation_data=(validation_features, validation_labels))\n"
      ],
      "metadata": {
        "colab": {
          "base_uri": "https://localhost:8080/"
        },
        "id": "qRXww7lLqDl_",
        "outputId": "cc2d629a-c3cc-42e5-bd36-35cc36bf9c42"
      },
      "execution_count": 9,
      "outputs": [
        {
          "output_type": "stream",
          "name": "stderr",
          "text": [
            "/usr/local/lib/python3.9/dist-packages/keras/optimizers/optimizer_v2/rmsprop.py:143: UserWarning: The `lr` argument is deprecated, use `learning_rate` instead.\n",
            "  super().__init__(name, **kwargs)\n"
          ]
        },
        {
          "output_type": "stream",
          "name": "stdout",
          "text": [
            "Epoch 1/30\n",
            "100/100 [==============================] - 3s 27ms/step - loss: 0.6176 - acc: 0.6500 - val_loss: 0.4589 - val_acc: 0.8320\n",
            "Epoch 2/30\n",
            "100/100 [==============================] - 3s 29ms/step - loss: 0.4391 - acc: 0.8055 - val_loss: 0.3735 - val_acc: 0.8670\n",
            "Epoch 3/30\n",
            "100/100 [==============================] - 4s 36ms/step - loss: 0.3593 - acc: 0.8455 - val_loss: 0.3346 - val_acc: 0.8710\n",
            "Epoch 4/30\n",
            "100/100 [==============================] - 3s 26ms/step - loss: 0.3160 - acc: 0.8765 - val_loss: 0.3031 - val_acc: 0.8900\n",
            "Epoch 5/30\n",
            "100/100 [==============================] - 2s 24ms/step - loss: 0.2869 - acc: 0.8895 - val_loss: 0.2883 - val_acc: 0.8900\n",
            "Epoch 6/30\n",
            "100/100 [==============================] - 3s 26ms/step - loss: 0.2710 - acc: 0.8975 - val_loss: 0.2897 - val_acc: 0.8800\n",
            "Epoch 7/30\n",
            "100/100 [==============================] - 3s 31ms/step - loss: 0.2448 - acc: 0.9065 - val_loss: 0.2681 - val_acc: 0.8970\n",
            "Epoch 8/30\n",
            "100/100 [==============================] - 4s 36ms/step - loss: 0.2413 - acc: 0.9110 - val_loss: 0.2647 - val_acc: 0.8930\n",
            "Epoch 9/30\n",
            "100/100 [==============================] - 3s 29ms/step - loss: 0.2247 - acc: 0.9130 - val_loss: 0.2546 - val_acc: 0.9020\n",
            "Epoch 10/30\n",
            "100/100 [==============================] - 2s 23ms/step - loss: 0.2099 - acc: 0.9220 - val_loss: 0.2507 - val_acc: 0.9020\n",
            "Epoch 11/30\n",
            "100/100 [==============================] - 3s 27ms/step - loss: 0.1969 - acc: 0.9260 - val_loss: 0.2735 - val_acc: 0.8780\n",
            "Epoch 12/30\n",
            "100/100 [==============================] - 3s 27ms/step - loss: 0.1941 - acc: 0.9315 - val_loss: 0.2446 - val_acc: 0.9030\n",
            "Epoch 13/30\n",
            "100/100 [==============================] - 3s 34ms/step - loss: 0.1781 - acc: 0.9410 - val_loss: 0.2419 - val_acc: 0.8990\n",
            "Epoch 14/30\n",
            "100/100 [==============================] - 3s 30ms/step - loss: 0.1772 - acc: 0.9370 - val_loss: 0.2423 - val_acc: 0.9040\n",
            "Epoch 15/30\n",
            "100/100 [==============================] - 3s 26ms/step - loss: 0.1672 - acc: 0.9380 - val_loss: 0.2433 - val_acc: 0.8990\n",
            "Epoch 16/30\n",
            "100/100 [==============================] - 3s 25ms/step - loss: 0.1572 - acc: 0.9430 - val_loss: 0.2368 - val_acc: 0.9050\n",
            "Epoch 17/30\n",
            "100/100 [==============================] - 3s 33ms/step - loss: 0.1555 - acc: 0.9470 - val_loss: 0.2364 - val_acc: 0.9010\n",
            "Epoch 18/30\n",
            "100/100 [==============================] - 4s 36ms/step - loss: 0.1499 - acc: 0.9525 - val_loss: 0.2353 - val_acc: 0.9020\n",
            "Epoch 19/30\n",
            "100/100 [==============================] - 3s 30ms/step - loss: 0.1399 - acc: 0.9550 - val_loss: 0.2348 - val_acc: 0.9000\n",
            "Epoch 20/30\n",
            "100/100 [==============================] - 3s 28ms/step - loss: 0.1334 - acc: 0.9550 - val_loss: 0.2427 - val_acc: 0.9000\n",
            "Epoch 21/30\n",
            "100/100 [==============================] - 2s 24ms/step - loss: 0.1295 - acc: 0.9610 - val_loss: 0.2342 - val_acc: 0.9020\n",
            "Epoch 22/30\n",
            "100/100 [==============================] - 3s 26ms/step - loss: 0.1265 - acc: 0.9585 - val_loss: 0.2340 - val_acc: 0.9040\n",
            "Epoch 23/30\n",
            "100/100 [==============================] - 4s 36ms/step - loss: 0.1188 - acc: 0.9605 - val_loss: 0.2377 - val_acc: 0.9020\n",
            "Epoch 24/30\n",
            "100/100 [==============================] - 3s 31ms/step - loss: 0.1207 - acc: 0.9580 - val_loss: 0.2358 - val_acc: 0.8990\n",
            "Epoch 25/30\n",
            "100/100 [==============================] - 2s 24ms/step - loss: 0.1103 - acc: 0.9665 - val_loss: 0.2353 - val_acc: 0.9020\n",
            "Epoch 26/30\n",
            "100/100 [==============================] - 3s 25ms/step - loss: 0.1059 - acc: 0.9665 - val_loss: 0.2350 - val_acc: 0.9000\n",
            "Epoch 27/30\n",
            "100/100 [==============================] - 3s 26ms/step - loss: 0.1048 - acc: 0.9710 - val_loss: 0.2345 - val_acc: 0.9040\n",
            "Epoch 28/30\n",
            "100/100 [==============================] - 4s 36ms/step - loss: 0.1011 - acc: 0.9700 - val_loss: 0.2402 - val_acc: 0.8990\n",
            "Epoch 29/30\n",
            "100/100 [==============================] - 3s 32ms/step - loss: 0.0959 - acc: 0.9710 - val_loss: 0.2426 - val_acc: 0.8990\n",
            "Epoch 30/30\n",
            "100/100 [==============================] - 3s 26ms/step - loss: 0.0927 - acc: 0.9720 - val_loss: 0.2382 - val_acc: 0.8990\n"
          ]
        }
      ]
    },
    {
      "cell_type": "code",
      "source": [
        "model.save('cats_and_dogs_small_01_pretrained.h5')"
      ],
      "metadata": {
        "id": "6lI2ONLW8ole"
      },
      "execution_count": 11,
      "outputs": []
    },
    {
      "cell_type": "markdown",
      "source": [
        " #### Plotting the results"
      ],
      "metadata": {
        "id": "guAdA5eqqIcr"
      }
    },
    {
      "cell_type": "code",
      "source": [
        "import matplotlib.pyplot as plt\n",
        "acc = history.history['acc']\n",
        "val_acc = history.history['val_acc']\n",
        "loss = history.history['loss']\n",
        "val_loss = history.history['val_loss']\n",
        "epochs = range(1, len(acc) + 1)\n",
        "plt.plot(epochs, acc, 'bo', label='Training acc')\n",
        "plt.plot(epochs, val_acc, 'b', label='Validation acc')\n",
        "plt.title('Training and validation accuracy')\n",
        "plt.legend()\n",
        "plt.figure()\n",
        "plt.plot(epochs, loss, 'bo', label='Training loss')\n",
        "plt.plot(epochs, val_loss, 'b', label='Validation loss')\n",
        "plt.title('Training and validation loss')\n",
        "plt.legend()\n",
        "plt.show()\n",
        "# validation accuracy ~90\n",
        "# Training accuracy  ~97\n",
        "# Training Loss ~0.09\n",
        "# Validation Loss ~0.23\n"
      ],
      "metadata": {
        "colab": {
          "base_uri": "https://localhost:8080/",
          "height": 545
        },
        "id": "WOhii3emqMoP",
        "outputId": "e04d2816-21fe-4d92-8cc1-d0e1cde71607"
      },
      "execution_count": 10,
      "outputs": [
        {
          "output_type": "display_data",
          "data": {
            "text/plain": [
              "<Figure size 432x288 with 1 Axes>"
            ],
            "image/png": "[encoded data removed]"
          },
          "metadata": {
            "needs_background": "light"
          }
        },
        {
          "output_type": "display_data",
          "data": {
            "text/plain": [
              "<Figure size 432x288 with 1 Axes>"
            ],
            "image/png": "[encoded data removed]"
          },
          "metadata": {
            "needs_background": "light"
          }
        }
      ]
    }
  ]
}